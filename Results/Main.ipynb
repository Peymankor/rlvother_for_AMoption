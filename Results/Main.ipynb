{
 "cells": [
  {
   "cell_type": "markdown",
   "metadata": {},
   "source": [
    "## Results"
   ]
  },
  {
   "cell_type": "markdown",
   "metadata": {},
   "source": [
    "### Result for Table"
   ]
  },
  {
   "cell_type": "code",
   "execution_count": 1,
   "metadata": {},
   "outputs": [],
   "source": [
    "import sys \n",
    "from rich import print, pretty\n",
    "pretty.install()\n",
    "\n",
    "## EU option\n",
    "\n",
    "import numpy as np\n",
    "\n",
    "sys.path.append(\"..\")"
   ]
  },
  {
   "cell_type": "code",
   "execution_count": 2,
   "metadata": {},
   "outputs": [],
   "source": [
    "from RL_policy import training_sim_data, fitted_lspi_put_option, scoring_sim_data , option_price\n",
    "from bintree_policy import bin_tree_price\n",
    "\n",
    "## Import packages for LSM\n",
    "\n",
    "from LSM_policy import  lsm_price\n",
    "from eu_opt import european_put_price\n"
   ]
  },
  {
   "cell_type": "code",
   "execution_count": null,
   "metadata": {},
   "outputs": [],
   "source": [
    "## RL parameters\n",
    "\n",
    "num_scoring_paths_val: int = 10000\n",
    "num_steps_scoring: int = 50\n",
    "num_steps_lspi: int = 10\n",
    "num_training_paths_lspi_val: int = 5000\n",
    "spot_price_frac_lspi: float = 0.00000000000000000000000000001\n",
    "training_iters_lspi_val: int = 4\n",
    "\n",
    "\n",
    "\n",
    "spot_price_val: float = 36.0\n",
    "strike_val: float = 40.0\n",
    "expiry_val: float = 1.0\n",
    "rate_val: float = 0.06\n",
    "vol_val: float = 0.2\n",
    "\n",
    "\n",
    "\n",
    "num_steps_value_lsm = 50 \n",
    "num_paths_train_val = 100000\n",
    "K_value = 40\n",
    "k_value = 4\n",
    "num_paths_test_val = 10000\n",
    "\n",
    "S0_values_table1 = np.array([36,38,40,42, 44])\n",
    "sd_values_table1 = np.array([0.2, 0.4])\n",
    "T_values_table1 = np.array([1,2])\n",
    "\n",
    "eu_price_list =[]\n",
    "bin_price_list = []\n",
    "lsm_price_list = []\n",
    "rl_price_list = []\n",
    "S0_list = []\n",
    "vol_list = []\n",
    "T_list = []"
   ]
  },
  {
   "cell_type": "code",
   "execution_count": null,
   "metadata": {},
   "outputs": [],
   "source": [
    "## Small Text on numbe rof iteration\n",
    "T_table1_test = 1\n",
    "S0_table1_test = 36\n",
    "sd_table1_test = 0.2\n",
    "training_iters_lspi_val_test = 3\n",
    "\n",
    "fited_lspi = fitted_lspi_put_option(expiry=T_table1_test,\n",
    "                                    num_steps=num_steps_lspi,\n",
    "                                    num_paths=num_training_paths_lspi_val,\n",
    "                                    spot_price=S0_table1_test,\n",
    "                                    spot_price_frac=spot_price_frac_lspi,\n",
    "                                    rate=rate_val,vol=sd_table1_test,\n",
    "                                    strike=strike_val,\n",
    "                                    training_iters=training_iters_lspi_val_test)\n",
    "\n",
    "test_data = scoring_sim_data(expiry=T_table1_test, \n",
    "                                                          num_steps=num_steps_scoring, num_paths=20000,\n",
    "                                                          spot_price=S0_table1_test, rate=rate_val, vol=sd_table1_test)\n",
    "\n",
    "price_RL, stop_time = option_price(test_data, fited_lspi, expiry=T_table1_test,\n",
    "                                        rate=rate_val,strike=strike_val)\n",
    "                            \n",
    "\n",
    "print(f\"Average Option Price: {price_RL}\")"
   ]
  },
  {
   "cell_type": "code",
   "execution_count": null,
   "metadata": {},
   "outputs": [],
   "source": [
    "print(\"%-10s %-10s %-10s %-20s %-20s %-20s %-20s\" \n",
    "                          %(\"S0\",\"vol\", \"T\", \"EU\", \"Bin Tree\", \"LSM\", \"RL\"))\n",
    "for S0_table1 in S0_values_table1:\n",
    "      for sd_table1 in sd_values_table1:\n",
    "            for T_table1 in T_values_table1:\n",
    "                     \n",
    "\n",
    "                    #  eu_price = european_put_price(spot_price=S0_table1, expiry=T_table1, vol=sd_table1,\n",
    "                    #                                rate=rate_val, strike=strike_val)\n",
    "                     \n",
    "                     \n",
    "                    #  price_bin = bin_tree_price(spot_price_val=S0_table1, strike_val=strike_val,\n",
    "                    #                      expiry_val=T_table1, rate_val=rate_val, vol_val=sd_table1)\n",
    "                     \n",
    "\n",
    "                    #  price_lsm,_ = lsm_price(spot_price_val=S0_table1, strike_val=strike_val,\n",
    "                    #             expiry_val=T_table1, rate_val=rate_val, vol_val=sd_table1, \n",
    "                    #                 steps_value=num_steps_value_lsm,\n",
    "                    #                 K_value=K_value, k_value=k_value, num_paths_train_val=num_paths_train_val,\n",
    "                    #                 num_paths_test_val=num_paths_test_val)\n",
    "                     \n",
    "\n",
    "                     fited_lspi = fitted_lspi_put_option(expiry=T_table1,\n",
    "                                    num_steps=num_steps_lspi,\n",
    "                                    num_paths=num_training_paths_lspi_val,\n",
    "                                    spot_price=S0_table1,\n",
    "                                    spot_price_frac=spot_price_frac_lspi,\n",
    "                                    rate=rate_val,vol=sd_table1,\n",
    "                                    strike=strike_val,\n",
    "                                    training_iters=training_iters_lspi_val)\n",
    "                        \n",
    "                     option_prices = []\n",
    "\n",
    "                     for _ in range(20):\n",
    "                             \n",
    "                             test_data = scoring_sim_data(expiry=T_table1, \n",
    "                                                          num_steps=num_steps_scoring, num_paths=5000,\n",
    "                                                          spot_price=S0_table1, rate=rate_val, vol=sd_table1)\n",
    "\n",
    "                             price_RL, stop_time = option_price(test_data, fited_lspi, \n",
    "                                                                expiry=T_table1,\n",
    "                                        rate=rate_val,\n",
    "                                        strike=strike_val)\n",
    "                            \n",
    "                             option_prices.append(price_RL)\n",
    "                             #print(f\"Average Option Price: {price_RL}\")\n",
    "\n",
    "                      \n",
    "                     price_rl = np.mean(option_prices)\n",
    "                     print(f\"Average Option Price: {price_RL}\")     \n",
    "                    #  eu_price_list.append(eu_price)\n",
    "                    #  bin_price_list.append(price_bin)\n",
    "                    #  lsm_price_list.append(price_lsm)\n",
    "                     rl_price_list.append(price_rl)\n",
    "                     \n",
    "                     S0_list.append(S0_table1)\n",
    "                     vol_list.append(sd_table1)\n",
    "                     T_list. append(T_table1)\n",
    "\n",
    "                     #print(\"%d %10.2f %10d %20.3f %20.3f %20.3f %20.3f\" \n",
    "                     #   %(S0_table1,sd_table1, T_table1, eu_price, \n",
    "                     #       price_bin,price_lsm, price_rl))\n",
    "                     \n",
    "                     #print(\"%d %10.2f %10d %20.3f\" \n",
    "                     #   %(S0_table1,sd_table1, T_table1, price_rl))\n",
    "\n",
    "#np.save('dataRL.npy', np.array(rl_price_list))\n",
    "\n",
    "\n"
   ]
  },
  {
   "cell_type": "code",
   "execution_count": null,
   "metadata": {},
   "outputs": [],
   "source": [
    "import numpy as np\n",
    "\n",
    "# Load the npy file\n",
    "data = np.load('dataRL_Table1.npy')\n",
    "\n",
    "# Set the print options to three-digit accuracy\n",
    "np.set_printoptions(precision=3)\n",
    "\n",
    "# Print the data\n",
    "print(data)\n"
   ]
  },
  {
   "cell_type": "markdown",
   "metadata": {},
   "source": [
    "### Decision Boundary Curve"
   ]
  },
  {
   "cell_type": "code",
   "execution_count": null,
   "metadata": {},
   "outputs": [],
   "source": [
    "num_scoring_paths_val: int = 10000\n",
    "num_steps_scoring: int = 50\n",
    "num_steps_lspi: int = 10\n",
    "num_training_paths_lspi_val: int = 5000\n",
    "spot_price_frac_lspi: float = 0.00000000000000000000000000001\n",
    "training_iters_lspi_val: int = 3\n",
    "\n",
    "spot_price_val: float = 36.0\n",
    "strike_val: float = 40.0\n",
    "expiry_val: float = 1.0\n",
    "rate_val: float = 0.06\n",
    "vol_val: float = 0.2"
   ]
  },
  {
   "cell_type": "code",
   "execution_count": null,
   "metadata": {},
   "outputs": [],
   "source": [
    "fited_lspi = fitted_lspi_put_option(expiry=expiry_val,\n",
    "                                    num_steps=num_steps_lspi,\n",
    "                                    num_paths=num_training_paths_lspi_val,\n",
    "                                    spot_price=spot_price_val,\n",
    "                                    spot_price_frac=spot_price_frac_lspi,\n",
    "                                    rate=rate_val,vol=vol_val,\n",
    "                                    strike=strike_val,\n",
    "                                    training_iters=training_iters_lspi_val)"
   ]
  },
  {
   "cell_type": "code",
   "execution_count": null,
   "metadata": {},
   "outputs": [],
   "source": [
    "from helper import continuation_curve_lsm, put_option_exercise_boundary\n",
    "from LSM_policy import OptimalExerciseLSM\n"
   ]
  },
  {
   "cell_type": "code",
   "execution_count": null,
   "metadata": {},
   "outputs": [],
   "source": [
    "print(\"Fitted LSPI Model\")\n",
    "\n",
    "rl_bound_x, rl_bound_y = put_option_exercise_boundary(\n",
    "        func=fited_lspi,\n",
    "        expiry=expiry_val,\n",
    "        num_steps=num_steps_scoring,\n",
    "        strike=strike_val\n",
    "    )\n"
   ]
  },
  {
   "cell_type": "code",
   "execution_count": null,
   "metadata": {},
   "outputs": [],
   "source": [
    "from LSM_policy import OptimalExerciseLSM\n",
    "\n",
    "\n",
    "num_paths_train_lsm = 10000\n",
    "num_steps_value_lsm = 50 \n",
    "\n",
    "\n",
    "def payoff_func(_: float, s: float) -> float:\n",
    "            return max(K_value - s, 0.)\n",
    "\n",
    "\n",
    "lsmclass = OptimalExerciseLSM(spot_price=spot_price_val,\n",
    "                 payoff=payoff_func, expiry=expiry_val,\n",
    "                 rate=rate_val, vol=vol_val,\n",
    "                 num_steps=num_steps_value_lsm)\n",
    "\n",
    "train_data_v = lsmclass.GBMprice_training(num_paths_train=num_paths_train_lsm, seed_random=False)\n",
    "\n",
    "lsm_policy_coef_beta = lsmclass.train_LSM(training_data=train_data_v,\n",
    "                            num_paths_train=num_paths_train_lsm, \n",
    "                            K=K_value, k=k_value)\n",
    "    \n",
    "print(\"Fitted LSM Model\")\n",
    "\n",
    "\n",
    "lsm_bound_x, lsm_bound_y = continuation_curve_lsm(\n",
    "                    left_price=20,right_price=40, \n",
    "                    deltaprice=0.1, \n",
    "                    lsm_policy_coef=lsm_policy_coef_beta, \n",
    "                    K_value=K_value, expiry_val=expiry_val, \n",
    "                    num_steps_value_lsm= num_steps_value_lsm\n",
    "    )"
   ]
  },
  {
   "cell_type": "code",
   "execution_count": null,
   "metadata": {},
   "outputs": [],
   "source": [
    "from bintree_policy import bin_tree_price"
   ]
  },
  {
   "cell_type": "code",
   "execution_count": null,
   "metadata": {},
   "outputs": [],
   "source": [
    "binomial_price, bin_bound_x,bin_bound_y = bin_tree_price(spot_price_val=spot_price_val, \n",
    "                                                         strike_val=strike_val, \n",
    "                                                         expiry_val=expiry_val, \n",
    "                                                         rate_val= rate_val, vol_val=vol_val)"
   ]
  },
  {
   "cell_type": "code",
   "execution_count": null,
   "metadata": {},
   "outputs": [],
   "source": [
    "X_price_ratio= np.concatenate((np.array(rl_bound_x), np.array(lsm_bound_x), np.array(bin_bound_x)))\n",
    "\n",
    "Y_boundary_price = np.concatenate((np.array(rl_bound_y), np.array(lsm_bound_y), np.array(bin_bound_y)))"
   ]
  },
  {
   "cell_type": "code",
   "execution_count": null,
   "metadata": {},
   "outputs": [],
   "source": [
    "# Set the figure size\n",
    "import matplotlib.pyplot as plt\n",
    "\n",
    "# Set the ggplot style\n",
    "plt.style.use('ggplot')\n",
    "\n",
    "# Plotting the data as a line with thicker lines\n",
    "plt.plot(rl_bound_x, rl_bound_y, color='red', label='RL', linewidth=2)\n",
    "plt.plot(lsm_bound_x, lsm_bound_y, color='blue', label='LSM', linewidth=2)\n",
    "plt.plot(bin_bound_x, bin_bound_y, color='green', label='BOPM', linewidth=2)\n",
    "\n",
    "# Adding labels and title with smaller font size\n",
    "plt.xlabel('Time (t/Expiry)', fontsize=10, color='black')\n",
    "plt.ylabel('Underlying Asset Price', fontsize=10, color='black')\n",
    "plt.title('Boundary Curves vs. Price', fontsize=12)\n",
    "\n",
    "# Adding legend with smaller font size\n",
    "plt.legend(fontsize=10)\n",
    "\n",
    "# Set the x and y-axis tick label font size and color\n",
    "plt.tick_params(axis='x', labelsize=8, colors='black')\n",
    "plt.tick_params(axis='y', labelsize=8, colors='black')\n",
    "\n",
    "# Set the figure resolution\n",
    "#plt.savefig('../PaperII/Figs/boundary_gbm.png', dpi=300)\n",
    "\n",
    "# Display the plot\n",
    "plt.show()\n"
   ]
  },
  {
   "cell_type": "markdown",
   "metadata": {},
   "source": [
    "## Frequency Plots"
   ]
  },
  {
   "cell_type": "code",
   "execution_count": null,
   "metadata": {},
   "outputs": [],
   "source": [
    "from RL_policy import training_sim_data, fitted_lspi_put_option, scoring_sim_data , option_price\n"
   ]
  },
  {
   "cell_type": "code",
   "execution_count": null,
   "metadata": {},
   "outputs": [],
   "source": [
    "\n",
    "num_scoring_paths_val: int = 10000\n",
    "num_steps_scoring: int = 50\n",
    "num_steps_lspi: int = 10\n",
    "num_training_paths_lspi_val: int = 5000\n",
    "spot_price_frac_lspi: float = 0.00000000000000000000000000001\n",
    "training_iters_lspi_val: int = 4\n",
    "\n",
    "spot_price_val: float = 36.0\n",
    "strike_val: float = 40.0\n",
    "expiry_val: float = 1.0\n",
    "rate_val: float = 0.06\n",
    "vol_val: float = 0.2\n",
    "\n",
    "\n",
    "fited_lspi = fitted_lspi_put_option(expiry=expiry_val,\n",
    "                                    num_steps=num_steps_lspi,\n",
    "                                    num_paths=num_training_paths_lspi_val,\n",
    "                                    spot_price=spot_price_val,\n",
    "                                    spot_price_frac=spot_price_frac_lspi,\n",
    "                                    rate=rate_val,vol=vol_val,\n",
    "                                    strike=strike_val,\n",
    "                                    training_iters=training_iters_lspi_val)\n",
    "\n",
    "\n",
    "scoring_data_rl = scoring_sim_data(expiry=expiry_val,\n",
    "                                    num_steps=num_steps_scoring,\n",
    "                                    num_paths=num_scoring_paths_val,\n",
    "                                    spot_price=spot_price_val,\n",
    "                                    rate=rate_val, vol=vol_val)\n",
    "\n",
    "\n",
    "option_price, stoptimes_rl = option_price(scoring_data_rl, fited_lspi,\n",
    "                                        expiry=expiry_val,\n",
    "                                        rate=rate_val,\n",
    "                                        strike=strike_val)"
   ]
  },
  {
   "cell_type": "code",
   "execution_count": null,
   "metadata": {},
   "outputs": [],
   "source": []
  },
  {
   "cell_type": "code",
   "execution_count": null,
   "metadata": {},
   "outputs": [],
   "source": [
    "from LSM_policy import OptimalExerciseLSM\n",
    "\n",
    "\n",
    "num_paths_train_lsm = 10000\n",
    "num_steps_value_lsm = 50 \n",
    "\n",
    "num_steps_value_lsm = 50 \n",
    "num_paths_train_val = 100000\n",
    "K_value = 40\n",
    "k_value = 4\n",
    "num_paths_test_val = 10000\n",
    "\n",
    "def payoff_func(_: float, s: float) -> float:\n",
    "            return max(K_value - s, 0.)\n",
    "\n",
    "\n",
    "lsmclass = OptimalExerciseLSM(spot_price=spot_price_val,\n",
    "                 payoff=payoff_func, expiry=expiry_val,\n",
    "                 rate=rate_val, vol=vol_val,\n",
    "                 num_steps=num_steps_value_lsm)\n",
    "\n",
    "train_data_v = lsmclass.GBMprice_training(num_paths_train=num_paths_train_lsm, seed_random=False)\n",
    "\n",
    "lsm_policy_coef_beta = lsmclass.train_LSM(training_data=train_data_v,\n",
    "                            num_paths_train=num_paths_train_lsm, \n",
    "                            K=K_value, k=k_value)\n",
    "\n",
    "\n",
    "scoring_data_lsm = lsmclass.scoring_sim_data(num_paths_test=num_paths_test_val)\n",
    "\n",
    "Option_price, stoptimes_lsm = lsmclass.option_price(scoring_data=scoring_data_lsm,\n",
    "                                                    Beta_list=lsm_policy_coef_beta,\n",
    "                                                    k=k_value)"
   ]
  },
  {
   "cell_type": "code",
   "execution_count": null,
   "metadata": {},
   "outputs": [],
   "source": [
    "print(stoptimes_rl)\n",
    "print(stoptimes_lsm)"
   ]
  },
  {
   "cell_type": "code",
   "execution_count": null,
   "metadata": {},
   "outputs": [],
   "source": [
    "chart1_dataset1 = pd.DataFrame({\"RL (LSPI)\":stoptimes_rl,\n",
    "                                \"LSM\":stoptimes_lsm})\n",
    "\n",
    "\n",
    "chart_1_dataset_melted1 = pd.melt(chart1_dataset1, value_vars=[\"RL (LSPI)\", \"LSM\"],\n",
    "                                                            var_name=\"Method\",\n",
    "                                                            value_name=\"stoptime\")\n",
    "\n",
    "#chart_1_dataset_melted1\n",
    "#from plotnine import ggplot, labs, aes, scale_x_continuous, theme, geom_bar, position_dodge,geom_histogram\n",
    "from plotnine import *\n",
    "\n",
    "xx=(ggplot(chart_1_dataset_melted1, aes(x = \"stoptime\", fill = \"Method\")) + \n",
    "  geom_histogram(position=\"dodge2\", binwidth = 0.5 , center = 0) +\n",
    "  scale_x_continuous(breaks=range(0, 51, 1)) +\n",
    "  labs(y='Frequency (from total of 10,000 Paths)', x=\"The Stopping Time Step (k)\") +\n",
    "  #scale_fill_manual(legend_title,values=c(\"orange\",\"red\")) +\n",
    "theme(legend_position= (0.8, 0.75),\n",
    "      axis_text_x=element_text(angle=90),\n",
    "      text = element_text(size = 7)) +\n",
    "      ggtitle(\"S0 = 36, Strike Price = 40, Volatility = 0.2\"))\n",
    "xx\n",
    "\n",
    "\n",
    "ggsave(self=xx, filename='../PaperII/Figs/rllsmmoves.png', \n",
    "       width= 6, height = 4, dpi = 300)\n"
   ]
  },
  {
   "cell_type": "code",
   "execution_count": null,
   "metadata": {},
   "outputs": [],
   "source": [
    "from RL_policy import training_sim_data, fitted_lspi_put_option, scoring_sim_data , option_price"
   ]
  },
  {
   "cell_type": "code",
   "execution_count": null,
   "metadata": {},
   "outputs": [],
   "source": [
    "\n",
    "num_scoring_paths_val: int = 10000\n",
    "num_steps_scoring: int = 50\n",
    "num_steps_lspi: int = 10\n",
    "num_training_paths_lspi_val: int = 5000\n",
    "spot_price_frac_lspi: float = 0.00000000000000000000000000001\n",
    "training_iters_lspi_val: int = 4\n",
    "\n",
    "spot_price_val: float = 36.0\n",
    "strike_val: float = 40.0\n",
    "expiry_val: float = 1.0\n",
    "rate_val: float = 0.06\n",
    "vol_val: float = 0.4\n",
    "\n",
    "\n",
    "fited_lspi = fitted_lspi_put_option(expiry=expiry_val,\n",
    "                                    num_steps=num_steps_lspi,\n",
    "                                    num_paths=num_training_paths_lspi_val,\n",
    "                                    spot_price=spot_price_val,\n",
    "                                    spot_price_frac=spot_price_frac_lspi,\n",
    "                                    rate=rate_val,vol=vol_val,\n",
    "                                    strike=strike_val,\n",
    "                                    training_iters=training_iters_lspi_val)\n",
    "\n",
    "\n",
    "scoring_data_rl = scoring_sim_data(expiry=expiry_val,\n",
    "                                    num_steps=num_steps_scoring,\n",
    "                                    num_paths=num_scoring_paths_val,\n",
    "                                    spot_price=spot_price_val,\n",
    "                                    rate=rate_val, vol=vol_val)\n",
    "\n",
    "\n",
    "option_price, stoptimes_rl = option_price(scoring_data_rl, fited_lspi,\n",
    "                                        expiry=expiry_val,\n",
    "                                        rate=rate_val,\n",
    "                                        strike=strike_val)\n",
    "\n",
    "\n",
    "from LSM_policy import OptimalExerciseLSM\n",
    "\n",
    "\n",
    "num_paths_train_lsm = 10000\n",
    "num_steps_value_lsm = 50 \n",
    "\n",
    "num_steps_value_lsm = 50 \n",
    "num_paths_train_val = 100000\n",
    "K_value = 40\n",
    "k_value = 4\n",
    "num_paths_test_val = 10000\n",
    "\n",
    "def payoff_func(_: float, s: float) -> float:\n",
    "            return max(K_value - s, 0.)\n",
    "\n",
    "\n",
    "lsmclass = OptimalExerciseLSM(spot_price=spot_price_val,\n",
    "                 payoff=payoff_func, expiry=expiry_val,\n",
    "                 rate=rate_val, vol=vol_val,\n",
    "                 num_steps=num_steps_value_lsm)\n",
    "\n",
    "train_data_v = lsmclass.GBMprice_training(num_paths_train=num_paths_train_lsm, seed_random=False)\n",
    "\n",
    "lsm_policy_coef_beta = lsmclass.train_LSM(training_data=train_data_v,\n",
    "                            num_paths_train=num_paths_train_lsm, \n",
    "                            K=K_value, k=k_value)\n",
    "\n",
    "scoring_data_lsm = lsmclass.scoring_sim_data(num_paths_test=num_paths_test_val)\n",
    "\n",
    "Option_price, stoptimes_lsm = lsmclass.option_price(scoring_data=scoring_data_lsm,\n",
    "                                                    Beta_list=lsm_policy_coef_beta,\n",
    "                                                    k=k_value)"
   ]
  },
  {
   "cell_type": "code",
   "execution_count": null,
   "metadata": {},
   "outputs": [],
   "source": [
    "from plotnine import *\n",
    "import pandas as pd"
   ]
  },
  {
   "cell_type": "code",
   "execution_count": null,
   "metadata": {},
   "outputs": [],
   "source": [
    "chart1_dataset1 = pd.DataFrame({\"RL (LSPI)\":stoptimes_rl,\n",
    "                                \"LSM\":stoptimes_lsm})\n",
    "\n",
    "\n",
    "chart_1_dataset_melted1 = pd.melt(chart1_dataset1, value_vars=[\"RL (LSPI)\", \"LSM\"],\n",
    "                                                            var_name=\"Method\",\n",
    "                                                            value_name=\"stoptime\")\n",
    "\n",
    "#chart_1_dataset_melted1\n",
    "#from plotnine import ggplot, labs, aes, scale_x_continuous, theme, geom_bar, position_dodge,geom_histogram\n",
    "from plotnine import *\n",
    "\n",
    "xx=(ggplot(chart_1_dataset_melted1, aes(x = \"stoptime\", fill = \"Method\")) + \n",
    "  geom_histogram(position=\"dodge2\", binwidth = 0.5 , center = 0) +\n",
    "  scale_x_continuous(breaks=range(0, 51, 1)) +\n",
    "  labs(y='Frequency (from total of 10,000 Paths)', x=\"The Stopping Time Step (k)\") +\n",
    "  #scale_fill_manual(legend_title,values=c(\"orange\",\"red\")) +\n",
    "theme(legend_position= (0.8, 0.75),\n",
    "      axis_text_x=element_text(angle=90),\n",
    "      text = element_text(size = 7)) +\n",
    "      ggtitle(\"S0 = 36, Strike Price = 40, Volatility = 0.4\"))\n",
    "xx\n",
    "\n",
    "\n",
    "ggsave(self=xx, filename='../PaperII/Figs/rllsmmoves04vol.png', \n",
    "       width= 6, height = 4, dpi = 300)"
   ]
  },
  {
   "cell_type": "code",
   "execution_count": null,
   "metadata": {},
   "outputs": [],
   "source": [
    "from RL_moves import OptionPricing_RL_move"
   ]
  },
  {
   "cell_type": "markdown",
   "metadata": {},
   "source": [
    "option_pricing_rl_move = OptionPricing_RL_move(\n",
    " num_scoring_paths_val = num_scoring_paths_val,\n",
    "                 num_training_paths_lspi_val: int,\n",
    "                 num_steps_lspi_val: int,\n",
    "                 num_training_iters_lspi_val : int,\n",
    "                 vol_val: int):\n",
    "   \n",
    ")"
   ]
  },
  {
   "cell_type": "markdown",
   "metadata": {},
   "source": []
  },
  {
   "cell_type": "code",
   "execution_count": null,
   "metadata": {},
   "outputs": [],
   "source": [
    "from RL_moves import OptionPricing_RL_move\n",
    "\n",
    "num_paths_test_val = 10000\n",
    "num_paths_train_val = 5000\n",
    "num_steps_scoring = 50\n",
    "training_iters_lspi_val = 5\n",
    "vol_val = 0.2\n",
    "\n",
    "option_pricing_rl_move = OptionPricing_RL_move(num_scoring_paths_val=num_paths_test_val,\n",
    "                                               num_training_paths_lspi_val=num_paths_train_val,\n",
    "                                               num_steps_lspi_val=10,\n",
    "                                               num_training_iters_lspi_val=training_iters_lspi_val, \n",
    "                                               vol_val=vol_val)\n",
    "\n",
    "price_ite_02vol, decision_ite_02vol = option_pricing_rl_move.run()\n",
    "\n",
    "\n",
    "\n",
    "\n",
    "ite_plot =option_pricing_rl_move.clean_and_visualize_iteration_decision(decision_ite_02vol)\n",
    "\n",
    "ite_plot\n",
    "#ggsave(self=ite_plot, filename='../', dpi = 600)b\n"
   ]
  },
  {
   "cell_type": "code",
   "execution_count": null,
   "metadata": {},
   "outputs": [],
   "source": []
  },
  {
   "cell_type": "code",
   "execution_count": null,
   "metadata": {},
   "outputs": [],
   "source": [
    "def clean_and_visualize_iteration_decision(stoptime_rl_iteration):\n",
    "        df = pd.DataFrame(stoptime_rl_iteration).melt(var_name='IterationNumber', value_name='Values')\n",
    "        df['Iter'] = pd.Categorical(df['IterationNumber'])\n",
    "\n",
    "        g = (ggplot(df, aes(x='Values'))\n",
    "             + geom_histogram(position=\"dodge2\", binwidth=0.5, center=0,  show_legend=False,\n",
    "                              color='black', fill='red')\n",
    "             + scale_x_continuous(breaks=range(0, 51, 2))\n",
    "             + facet_grid('Iter ~ .', scales='fixed') +\n",
    " #            + labs(title='Histogram of Exercise Decision Times, at each Iteration of Q-Learning') +\n",
    "             labs(y='Frequency (from total of 5,000 Paths)', x=\"The Stopping Time Step (k)\") +\n",
    "                theme(axis_text_x=element_text(size=10, color=\"black\",angle=90),\n",
    "                text = element_text(size = 10,color='black'),\n",
    "                axis_text_y=element_text(size=10, color=\"black\")))\n",
    "               # ggtitle(\"S0 = 36, Strike Price = 40, Volatility = 0.2\"))\n",
    "        return g"
   ]
  },
  {
   "cell_type": "code",
   "execution_count": null,
   "metadata": {},
   "outputs": [],
   "source": [
    "import pandas as pd\n",
    "from plotnine import ggplot, aes, geom_histogram, scale_x_continuous, facet_grid, labs, \\\n",
    "theme, element_text, ggtitle, scale_y_continuous, geom_bar, ggsave, element_text\n",
    "\n",
    "ite_plot=clean_and_visualize_iteration_decision(decision_ite_02vol)\n",
    "\n",
    "ite_plot"
   ]
  },
  {
   "cell_type": "code",
   "execution_count": null,
   "metadata": {},
   "outputs": [],
   "source": [
    "#ite_plot =option_pricing_rl_move.clean_and_visualize_iteration_decision(decision_ite_02vol)\n",
    "\n",
    "#ite_plot\n",
    "#ggsave(self=ite_plot, filename='../', dpi = 600)"
   ]
  },
  {
   "cell_type": "code",
   "execution_count": null,
   "metadata": {},
   "outputs": [],
   "source": [
    "from plotnine import ggsave\n",
    "ggsave(self=ite_plot, filename=\"../MDPI/Figs/RL_move_GBM_0_2.png\", dpi = 300)\n"
   ]
  },
  {
   "cell_type": "code",
   "execution_count": null,
   "metadata": {},
   "outputs": [],
   "source": [
    "print(price_ite_02vol)\n"
   ]
  },
  {
   "cell_type": "code",
   "execution_count": null,
   "metadata": {},
   "outputs": [],
   "source": [
    "import pandas as pd\n",
    "\n",
    "from plotnine import ggplot, aes, geom_histogram, scale_x_continuous, facet_grid, labs, \\\n",
    "theme, element_text, ggtitle, scale_y_continuous, geom_bar, ggsave, element_text\n",
    "\n",
    "def clean_and_visualize_option_price_value_sepfunc(price_ite):\n",
    "        \n",
    "        df = pd.DataFrame({'IterationNumber': list(price_ite.keys()), \n",
    "                           'Values': list(price_ite.values())})\n",
    "\n",
    "        bar_chart = (ggplot(df, aes(x='IterationNumber', y='Values')) +\n",
    "             geom_bar(stat='identity', fill='red', width = 0.5, color='black') +\n",
    "            labs(x='Iteration Number', y='Value of the Option (in $)') +\n",
    "             theme(axis_text_x=element_text(size=10, color=\"black\"),\n",
    "                text = element_text(size = 10,color='black'),\n",
    "                axis_text_y=element_text(size=10, color=\"black\")) +\n",
    "            scale_y_continuous(expand=(0, 0)))\n",
    "        \n",
    "        return bar_chart\n",
    "\n",
    "price_ite_02vol_plot = clean_and_visualize_option_price_value_sepfunc(price_ite_02vol)\n",
    "price_ite_02vol_plot"
   ]
  },
  {
   "cell_type": "code",
   "execution_count": null,
   "metadata": {},
   "outputs": [],
   "source": [
    "from plotnine import ggsave\n",
    "ggsave(self=price_ite_02vol_plot, filename=\"../MDPI/Figs/RL_priceite_GBM_0_2.png\", dpi = 300)"
   ]
  },
  {
   "cell_type": "markdown",
   "metadata": {},
   "source": [
    "## GARCH (1,1) Stochastic Volatility Model"
   ]
  },
  {
   "cell_type": "code",
   "execution_count": 3,
   "metadata": {},
   "outputs": [],
   "source": [
    "from price_model import Brent_GARCH, BrentGARCHPrice_Light"
   ]
  },
  {
   "cell_type": "markdown",
   "metadata": {},
   "source": [
    "## Plot Oil Price"
   ]
  },
  {
   "cell_type": "code",
   "execution_count": null,
   "metadata": {},
   "outputs": [],
   "source": [
    "import pandas as pd\n",
    "Brent_crude_df = pd.read_excel(\"https://www.eia.gov/dnav/pet/hist_xls/RBRTEd.xls\", \n",
    "                        sheet_name=\"Data 1\")\n",
    "\n",
    "#################################################\n",
    "\n",
    "# Plot realized volatility and mdel\n",
    "class_brent = Brent_GARCH(brent_df=Brent_crude_df)\n",
    "clean_data, _ = class_brent.data_process()\n",
    "clean_data"
   ]
  },
  {
   "cell_type": "code",
   "execution_count": null,
   "metadata": {},
   "outputs": [],
   "source": [
    "\n",
    "import matplotlib.pyplot as plt\n",
    "import matplotlib.ticker as mtick\n",
    "import matplotlib.dates as mdates\n",
    "\n",
    "plt.style.use('ggplot')\n",
    "\n",
    "fig, ax = plt.subplots()\n",
    "\n",
    "ax.plot(clean_data[\"Date\"][1:], clean_data[\"Dollar\"][1:] , 'o', markersize=1)\n",
    "\n",
    "ax.legend(loc=\"upper left\")\n",
    "#ax.yaxis.set_major_formatter(mtick.PercentFormatter())\n",
    "ax.xaxis.set_major_locator(mdates.MonthLocator(interval=24))\n",
    "ax.tick_params(axis='x', labelrotation=90, colors='black', labelsize=6)  # Change the font size here\n",
    "ax.tick_params(axis='y', colors='black')\n",
    "ax.set_ylabel(\"Brent Crude Oil Price in ($)\",  color='black')\n",
    "#ax.set_xlabel(\"Date\", color='black', fontsize=8)\n",
    "ax.set_title(\"Historical Brent Crude Oil Price\", color='black', fontsize=8)\n",
    "print(\"Plot Realized Volatility  an Conditional through GARCH(1,1) model\")\n",
    "plt.savefig('../MDPI/Figs/BrentOilPrice.png', dpi=300)\n",
    "#plt.show()"
   ]
  },
  {
   "cell_type": "code",
   "execution_count": null,
   "metadata": {},
   "outputs": [],
   "source": [
    "\n",
    "plt.style.use('ggplot')\n",
    "class_brent = Brent_GARCH(brent_df=Brent_crude_df)\n",
    "#clean_data, _ = class_brent.data_process()\n",
    "#garch_prices= class_brent.generate_paths(num_time_steps=50, \n",
    "#                num_path_numbers=100, initial_price=85, default_param=False)\n",
    "\n",
    "\n",
    "realized_val, conditional_val = class_brent.compare_model()\n",
    "\n",
    "fig, ax = plt.subplots()\n",
    "\n",
    "ax.plot(clean_data[\"Date\"][1:], realized_val, 'o', markersize=1, label=\"Realized Volatility\")\n",
    "ax.plot(clean_data[\"Date\"][1:], conditional_val, \n",
    "                label = \"Conditional Volatility, GARCH (1,1) Model\")\n",
    "ax.legend(loc=\"upper left\")\n",
    "ax.yaxis.set_major_formatter(mtick.PercentFormatter())\n",
    "ax.xaxis.set_major_locator(mdates.MonthLocator(interval=24))\n",
    "ax.tick_params(axis='x', labelrotation=90, colors='black', labelsize=6)  # Change the font size here\n",
    "ax.tick_params(axis='y', colors='black')\n",
    "ax.set_ylabel(r'Volatility [$\\sigma_t$]',  color='black')\n",
    "#ax.set_xlabel(\"Date\", color='black')\n",
    "#x.set_xlabel(\"Date\", color='black', fontsize=5)\n",
    "print(\"Plot Realized Volatility  an Conditional1 through GARCH(1,1) model\")\n",
    "#plt.show()\n",
    "#plt.close()\n",
    "\n",
    "#plt.savefig('../MDPI/Figs/calibration.png', dpi=300)\n"
   ]
  },
  {
   "cell_type": "markdown",
   "metadata": {},
   "source": [
    "## Plot the GARCH price and the Oil Price"
   ]
  },
  {
   "cell_type": "markdown",
   "metadata": {},
   "source": [
    "## Final Policy in GARCH Model"
   ]
  },
  {
   "cell_type": "code",
   "execution_count": 4,
   "metadata": {},
   "outputs": [],
   "source": [
    "import sys \n",
    "from rich import print, pretty\n",
    "pretty.install()\n",
    "\n",
    "## EU option\n",
    "\n",
    "import numpy as np\n",
    "\n",
    "sys.path.append(\"..\")\n",
    "\n",
    "from price_model import Brent_GARCH, BrentGARCHPrice_Light\n",
    "from final_policies_GARCH import OptionPricingRL_GARCH, OptionPricingLSM_GARCH\n",
    "import pandas as pd"
   ]
  },
  {
   "cell_type": "code",
   "execution_count": 5,
   "metadata": {},
   "outputs": [
    {
     "data": {
      "text/html": [
       "<pre style=\"white-space:pre;overflow-x:auto;line-height:normal;font-family:Menlo,'DejaVu Sans Mono',consolas,'Courier New',monospace\"><span style=\"color: #008080; text-decoration-color: #008080; font-weight: bold\">10.697283085948616</span>\n",
       "</pre>\n"
      ],
      "text/plain": [
       "\u001b[1;36m10.697283085948616\u001b[0m\n"
      ]
     },
     "metadata": {},
     "output_type": "display_data"
    }
   ],
   "source": [
    "## RL Model\n",
    "num_scoring_paths_f = 20000\n",
    "num_train_paths_val = 5000\n",
    "\n",
    "spot_price_val = 70\n",
    "strike_val = 80\n",
    "\n",
    "GARCHRL = OptionPricingRL_GARCH(spot_price=spot_price_val, strike=strike_val, expiry=1, \n",
    "                              num_time_steps=50, num_train_paths=num_train_paths_val, \n",
    "                              rate=0.06)\n",
    "Train_data = GARCHRL.generate_garch_rl_training_data()\n",
    "func_rl = GARCHRL.fitted_lspi_put_option_GARCH(Train_data, training_iters=2)\n",
    "scoring_data = GARCHRL.generate_garch_rl_scoring_data(num_scoring_paths=num_scoring_paths_f)\n",
    "final_day_price = GARCHRL.calculate_final_day_price(num_scoring_paths=num_scoring_paths_f)\n",
    "option_price_rl, stoptime_rl = GARCHRL.option_price(scoring_data, func_rl)\n",
    "\n",
    "#print(\"Fitted LSPI Model\")\n",
    "from helper import put_option_exercise_boundary\n",
    "\n",
    "lspi_x, lspi_y = put_option_exercise_boundary(\n",
    "        func=func_rl,\n",
    "        expiry=1,\n",
    "        num_steps=50,\n",
    "        strike=strike_val\n",
    "    )\n",
    "\n",
    "print(option_price_rl)\n"
   ]
  },
  {
   "cell_type": "code",
   "execution_count": 6,
   "metadata": {},
   "outputs": [],
   "source": [
    "lspi_x, lspi_y = put_option_exercise_boundary(\n",
    "        func=func_rl,\n",
    "        expiry=1,\n",
    "        num_steps=50,\n",
    "        strike=strike_val\n",
    "    )"
   ]
  },
  {
   "cell_type": "code",
   "execution_count": null,
   "metadata": {},
   "outputs": [],
   "source": [
    "print(option_price_rl)\n",
    "print(final_day_price)"
   ]
  },
  {
   "cell_type": "code",
   "execution_count": null,
   "metadata": {},
   "outputs": [],
   "source": [
    "stoptime_rl"
   ]
  },
  {
   "cell_type": "code",
   "execution_count": 20,
   "metadata": {},
   "outputs": [],
   "source": [
    "## LSM Model\n",
    "#spot_price_val = 70.0\n",
    "#strike_val = 80.0\n",
    "expiry_val = 1\n",
    "num_time_steps_val_f = 50\n",
    "num_train_paths_f = 50000\n",
    "rate_val = 0.06\n",
    "\n",
    "\n",
    "option_pricing_lsm = OptionPricingLSM_GARCH(\n",
    "        spot_price=spot_price_val,\n",
    "        strike=strike_val,\n",
    "        expiry=expiry_val,\n",
    "        num_time_steps=num_time_steps_val_f,\n",
    "        num_train_paths=num_train_paths_f,\n",
    "        rate=rate_val\n",
    ")\n",
    "\n",
    "training_prices = option_pricing_lsm.generate_prices(num_paths=num_train_paths_f, \n",
    "                                                    initial_price=spot_price_val)\n",
    "\n",
    "lsm_garch_coef = option_pricing_lsm.train_model()\n",
    "\n",
    "\n",
    "from helper import continuation_curve_lsm\n",
    "import numpy as np\n",
    "\n",
    "\n",
    "#lsm_bound_x, lsm_bound_y = continuation_curve_lsm(\n",
    "#                    left_price=40,right_price=strike_val, \n",
    "#                    deltaprice=0.01, \n",
    "#                    lsm_policy_coef=lsm_garch_coef, \n",
    "#                    K_value=strike_val, expiry_val=1, \n",
    "#                    num_steps_value_lsm= 50\n",
    "#    )"
   ]
  },
  {
   "cell_type": "code",
   "execution_count": 21,
   "metadata": {},
   "outputs": [],
   "source": [
    "lsm_bound_x, lsm_bound_y = continuation_curve_lsm(\n",
    "                    left_price=0,right_price=80, \n",
    "                    deltaprice=0.01, \n",
    "                    lsm_policy_coef=lsm_garch_coef, \n",
    "                    K_value=80, expiry_val=1, \n",
    "                    num_steps_value_lsm= 50\n",
    "    )"
   ]
  },
  {
   "cell_type": "code",
   "execution_count": 22,
   "metadata": {},
   "outputs": [],
   "source": [
    "garch_lsm_opprice, garch_lsm_stop_times = option_pricing_lsm.evaluate_model()"
   ]
  },
  {
   "cell_type": "code",
   "execution_count": 27,
   "metadata": {},
   "outputs": [
    {
     "data": {
      "image/png": "[encoded data removed]"
     },
     "metadata": {},
     "output_type": "display_data"
    }
   ],
   "source": [
    "import matplotlib.pyplot as plt\n",
    "\n",
    "# Set the ggplot style\n",
    "plt.style.use('ggplot')\n",
    "\n",
    "# Plotting the data as a line with thicker lines\n",
    "plt.plot(lsm_bound_x, lsm_bound_y, color='red', label='LSM', linewidth=2)\n",
    "plt.plot(lspi_x, lspi_y, color='blue', label='RL', linewidth=2)\n",
    "#plt.plot(bin_bound_x, bin_bound_y, color='green', label='BOPM', linewidth=2)\n",
    "\n",
    "# Adding labels and title with smaller font size\n",
    "plt.xlabel('Time (t/Expiry)', fontsize=10, color='black')\n",
    "plt.ylabel('Underlying Asset Price', fontsize=10, color='black')\n",
    "plt.title('Boundary Curves vs. Price', fontsize=12)\n",
    "\n",
    "# Adding legend with smaller font size\n",
    "plt.legend(fontsize=10)\n",
    "\n",
    "# Set the x and y-axis tick label font size and color\n",
    "plt.tick_params(axis='x', labelsize=8, colors='black')\n",
    "plt.tick_params(axis='y', labelsize=8, colors='black')\n",
    "plt.savefig('../MDPI/Figs/boundarygarch.png', dpi=300)\n"
   ]
  },
  {
   "cell_type": "code",
   "execution_count": 26,
   "metadata": {},
   "outputs": [
    {
     "data": {
      "text/html": [
       "<pre style=\"white-space:pre;overflow-x:auto;line-height:normal;font-family:Menlo,'DejaVu Sans Mono',consolas,'Courier New',monospace\">LSM Price: <span style=\"color: #008080; text-decoration-color: #008080; font-weight: bold\">10.542254921604655</span>\n",
       "</pre>\n"
      ],
      "text/plain": [
       "LSM Price: \u001b[1;36m10.542254921604655\u001b[0m\n"
      ]
     },
     "metadata": {},
     "output_type": "display_data"
    },
    {
     "data": {
      "text/html": [
       "<pre style=\"white-space:pre;overflow-x:auto;line-height:normal;font-family:Menlo,'DejaVu Sans Mono',consolas,'Courier New',monospace\">RL Price <span style=\"color: #008080; text-decoration-color: #008080; font-weight: bold\">10.697283085948616</span>\n",
       "</pre>\n"
      ],
      "text/plain": [
       "RL Price \u001b[1;36m10.697283085948616\u001b[0m\n"
      ]
     },
     "metadata": {},
     "output_type": "display_data"
    }
   ],
   "source": [
    "print(\"LSM Price:\", garch_lsm_opprice)\n",
    "print(\"RL Price\", option_price_rl)\n"
   ]
  },
  {
   "cell_type": "markdown",
   "metadata": {},
   "source": [
    "## Freqncy of GARCH Model - Bar Chart"
   ]
  },
  {
   "cell_type": "code",
   "execution_count": null,
   "metadata": {},
   "outputs": [],
   "source": [
    "len(garch_lsm_stop_times)"
   ]
  },
  {
   "cell_type": "code",
   "execution_count": 29,
   "metadata": {},
   "outputs": [
    {
     "data": {
      "image/png": "[encoded data removed]"
     },
     "metadata": {
      "image/png": {
       "height": 480,
       "width": 640
      }
     },
     "output_type": "display_data"
    },
    {
     "data": {
      "text/html": [
       "<pre style=\"white-space:pre;overflow-x:auto;line-height:normal;font-family:Menlo,'DejaVu Sans Mono',consolas,'Courier New',monospace\"><span style=\"font-weight: bold\">&lt;</span><span style=\"color: #ff00ff; text-decoration-color: #ff00ff; font-weight: bold\">Figure</span><span style=\"color: #000000; text-decoration-color: #000000\"> Size: </span><span style=\"color: #000000; text-decoration-color: #000000; font-weight: bold\">(</span><span style=\"color: #008080; text-decoration-color: #008080; font-weight: bold\">640</span><span style=\"color: #000000; text-decoration-color: #000000\"> x </span><span style=\"color: #008080; text-decoration-color: #008080; font-weight: bold\">480</span><span style=\"color: #000000; text-decoration-color: #000000; font-weight: bold\">)</span><span style=\"font-weight: bold\">&gt;</span>\n",
       "</pre>\n"
      ],
      "text/plain": [
       "\u001b[1m<\u001b[0m\u001b[1;95mFigure\u001b[0m\u001b[39m Size: \u001b[0m\u001b[1;39m(\u001b[0m\u001b[1;36m640\u001b[0m\u001b[39m x \u001b[0m\u001b[1;36m480\u001b[0m\u001b[1;39m)\u001b[0m\u001b[1m>\u001b[0m\n"
      ]
     },
     "metadata": {},
     "output_type": "display_data"
    }
   ],
   "source": [
    "chart1_dataset1 = pd.DataFrame({\"RL\":stoptime_rl,\n",
    "                                \"LSM\":garch_lsm_stop_times})\n",
    "\n",
    "\n",
    "chart_1_dataset_melted1 = pd.melt(chart1_dataset1, value_vars=[\"RL\", \"LSM\"],\n",
    "                                                            var_name=\"Method\",\n",
    "                                                            value_name=\"stoptime\")\n",
    "\n",
    "#chart_1_dataset_melted1\n",
    "#from plotnine import ggplot, labs, aes, scale_x_continuous, theme, geom_bar, position_dodge,geom_histogram\n",
    "from plotnine import *\n",
    "\n",
    "xx=(ggplot(chart_1_dataset_melted1, aes(x = \"stoptime\", fill = \"Method\")) + \n",
    "  geom_histogram(position=\"dodge2\", binwidth = 0.5 , center = 0) +\n",
    "  scale_x_continuous(breaks=range(0, 51, 1)) +\n",
    "  labs(y='Frequency (from total of 20,000 Paths)', x=\"The Stopping Time Step (k)\") +\n",
    "  #scale_fill_manual(legend_title,values=c(\"orange\",\"red\")) +\n",
    "theme(legend_position= (0.8, 0.75),\n",
    "      axis_text_x=element_text(angle=90),\n",
    "      text = element_text(size = 7))) \n",
    "      #ggtitle(\"S0 = 36, Strike Price = 40, Volatility = 0.2\"))\n",
    "xx\n",
    "\n",
    "#ggsave(self=xx, filename='../MDPI/Figs/freq_garch.png', dpi = 300)\n"
   ]
  },
  {
   "cell_type": "markdown",
   "metadata": {},
   "source": [
    "## How RL Moves in GARCH"
   ]
  },
  {
   "cell_type": "code",
   "execution_count": 30,
   "metadata": {},
   "outputs": [
    {
     "data": {
      "text/html": [
       "<pre style=\"white-space:pre;overflow-x:auto;line-height:normal;font-family:Menlo,'DejaVu Sans Mono',consolas,'Courier New',monospace\"><span style=\"font-weight: bold\">[</span> <span style=\"color: #008080; text-decoration-color: #008080; font-weight: bold\">178.61365299</span> <span style=\"color: #008080; text-decoration-color: #008080; font-weight: bold\">-128.13544968</span>  <span style=\"color: #008080; text-decoration-color: #008080; font-weight: bold\">230.35919956</span> <span style=\"color: #008080; text-decoration-color: #008080; font-weight: bold\">-209.59068092</span>  <span style=\"color: #008080; text-decoration-color: #008080; font-weight: bold\">191.95060342</span>\n",
       "  <span style=\"color: #008080; text-decoration-color: #008080; font-weight: bold\">-35.0940574</span>  <span style=\"color: #008080; text-decoration-color: #008080; font-weight: bold\">-100.13561299</span> <span style=\"color: #008080; text-decoration-color: #008080; font-weight: bold\">-115.7262572</span>   <span style=\"color: #008080; text-decoration-color: #008080; font-weight: bold\">169.75619472</span>   <span style=\"color: #008080; text-decoration-color: #008080; font-weight: bold\">-2.46851125</span>\n",
       "  <span style=\"color: #008080; text-decoration-color: #008080; font-weight: bold\">-46.64317889</span>    <span style=\"color: #008080; text-decoration-color: #008080; font-weight: bold\">0.42266263</span><span style=\"font-weight: bold\">]</span>\n",
       "</pre>\n"
      ],
      "text/plain": [
       "\u001b[1m[\u001b[0m \u001b[1;36m178.61365299\u001b[0m \u001b[1;36m-128.13544968\u001b[0m  \u001b[1;36m230.35919956\u001b[0m \u001b[1;36m-209.59068092\u001b[0m  \u001b[1;36m191.95060342\u001b[0m\n",
       "  \u001b[1;36m-35.0940574\u001b[0m  \u001b[1;36m-100.13561299\u001b[0m \u001b[1;36m-115.7262572\u001b[0m   \u001b[1;36m169.75619472\u001b[0m   \u001b[1;36m-2.46851125\u001b[0m\n",
       "  \u001b[1;36m-46.64317889\u001b[0m    \u001b[1;36m0.42266263\u001b[0m\u001b[1m]\u001b[0m\n"
      ]
     },
     "metadata": {},
     "output_type": "display_data"
    },
    {
     "data": {
      "text/html": [
       "<pre style=\"white-space:pre;overflow-x:auto;line-height:normal;font-family:Menlo,'DejaVu Sans Mono',consolas,'Courier New',monospace\"><span style=\"font-weight: bold\">[</span> <span style=\"color: #008080; text-decoration-color: #008080; font-weight: bold\">92.19497199</span>  <span style=\"color: #008080; text-decoration-color: #008080; font-weight: bold\">30.19994187</span>  <span style=\"color: #008080; text-decoration-color: #008080; font-weight: bold\">53.61468213</span>  <span style=\"color: #008080; text-decoration-color: #008080; font-weight: bold\">-8.75929839</span>  <span style=\"color: #008080; text-decoration-color: #008080; font-weight: bold\">36.69801619</span>\n",
       "  <span style=\"color: #008080; text-decoration-color: #008080; font-weight: bold\">23.30189782</span> <span style=\"color: #008080; text-decoration-color: #008080; font-weight: bold\">-79.87605125</span> <span style=\"color: #008080; text-decoration-color: #008080; font-weight: bold\">-97.78586107</span> <span style=\"color: #008080; text-decoration-color: #008080; font-weight: bold\">100.60695896</span>  <span style=\"color: #008080; text-decoration-color: #008080; font-weight: bold\">49.23631889</span>\n",
       " <span style=\"color: #008080; text-decoration-color: #008080; font-weight: bold\">-56.28073191</span>   <span style=\"color: #008080; text-decoration-color: #008080; font-weight: bold\">1.76650944</span><span style=\"font-weight: bold\">]</span>\n",
       "</pre>\n"
      ],
      "text/plain": [
       "\u001b[1m[\u001b[0m \u001b[1;36m92.19497199\u001b[0m  \u001b[1;36m30.19994187\u001b[0m  \u001b[1;36m53.61468213\u001b[0m  \u001b[1;36m-8.75929839\u001b[0m  \u001b[1;36m36.69801619\u001b[0m\n",
       "  \u001b[1;36m23.30189782\u001b[0m \u001b[1;36m-79.87605125\u001b[0m \u001b[1;36m-97.78586107\u001b[0m \u001b[1;36m100.60695896\u001b[0m  \u001b[1;36m49.23631889\u001b[0m\n",
       " \u001b[1;36m-56.28073191\u001b[0m   \u001b[1;36m1.76650944\u001b[0m\u001b[1m]\u001b[0m\n"
      ]
     },
     "metadata": {},
     "output_type": "display_data"
    },
    {
     "data": {
      "text/html": [
       "<pre style=\"white-space:pre;overflow-x:auto;line-height:normal;font-family:Menlo,'DejaVu Sans Mono',consolas,'Courier New',monospace\"><span style=\"font-weight: bold\">[</span> <span style=\"color: #008080; text-decoration-color: #008080; font-weight: bold\">47.01485331</span>  <span style=\"color: #008080; text-decoration-color: #008080; font-weight: bold\">47.06852895</span>  <span style=\"color: #008080; text-decoration-color: #008080; font-weight: bold\">33.02317244</span>  <span style=\"color: #008080; text-decoration-color: #008080; font-weight: bold\">13.81979266</span>  <span style=\"color: #008080; text-decoration-color: #008080; font-weight: bold\">17.16209417</span>\n",
       "  <span style=\"color: #008080; text-decoration-color: #008080; font-weight: bold\">28.13450662</span> <span style=\"color: #008080; text-decoration-color: #008080; font-weight: bold\">-34.71797001</span> <span style=\"color: #008080; text-decoration-color: #008080; font-weight: bold\">-67.60292289</span>  <span style=\"color: #008080; text-decoration-color: #008080; font-weight: bold\">34.23443644</span>  <span style=\"color: #008080; text-decoration-color: #008080; font-weight: bold\">72.33131034</span>\n",
       " <span style=\"color: #008080; text-decoration-color: #008080; font-weight: bold\">-52.10947282</span>   <span style=\"color: #008080; text-decoration-color: #008080; font-weight: bold\">1.95339854</span><span style=\"font-weight: bold\">]</span>\n",
       "</pre>\n"
      ],
      "text/plain": [
       "\u001b[1m[\u001b[0m \u001b[1;36m47.01485331\u001b[0m  \u001b[1;36m47.06852895\u001b[0m  \u001b[1;36m33.02317244\u001b[0m  \u001b[1;36m13.81979266\u001b[0m  \u001b[1;36m17.16209417\u001b[0m\n",
       "  \u001b[1;36m28.13450662\u001b[0m \u001b[1;36m-34.71797001\u001b[0m \u001b[1;36m-67.60292289\u001b[0m  \u001b[1;36m34.23443644\u001b[0m  \u001b[1;36m72.33131034\u001b[0m\n",
       " \u001b[1;36m-52.10947282\u001b[0m   \u001b[1;36m1.95339854\u001b[0m\u001b[1m]\u001b[0m\n"
      ]
     },
     "metadata": {},
     "output_type": "display_data"
    },
    {
     "data": {
      "text/html": [
       "<pre style=\"white-space:pre;overflow-x:auto;line-height:normal;font-family:Menlo,'DejaVu Sans Mono',consolas,'Courier New',monospace\"><span style=\"font-weight: bold\">[</span><span style=\"color: #008080; text-decoration-color: #008080; font-weight: bold\">10</span>. <span style=\"color: #008080; text-decoration-color: #008080; font-weight: bold\">10</span>. <span style=\"color: #008080; text-decoration-color: #008080; font-weight: bold\">10</span>. <span style=\"color: #008080; text-decoration-color: #008080; font-weight: bold\">10</span>. <span style=\"color: #008080; text-decoration-color: #008080; font-weight: bold\">10</span>. <span style=\"color: #008080; text-decoration-color: #008080; font-weight: bold\">10</span>. <span style=\"color: #008080; text-decoration-color: #008080; font-weight: bold\">10</span>. <span style=\"color: #008080; text-decoration-color: #008080; font-weight: bold\">10</span>. <span style=\"color: #008080; text-decoration-color: #008080; font-weight: bold\">10</span>. <span style=\"color: #008080; text-decoration-color: #008080; font-weight: bold\">10</span>. <span style=\"color: #008080; text-decoration-color: #008080; font-weight: bold\">10</span>. <span style=\"color: #008080; text-decoration-color: #008080; font-weight: bold\">10</span>.<span style=\"font-weight: bold\">]</span>\n",
       "</pre>\n"
      ],
      "text/plain": [
       "\u001b[1m[\u001b[0m\u001b[1;36m10\u001b[0m. \u001b[1;36m10\u001b[0m. \u001b[1;36m10\u001b[0m. \u001b[1;36m10\u001b[0m. \u001b[1;36m10\u001b[0m. \u001b[1;36m10\u001b[0m. \u001b[1;36m10\u001b[0m. \u001b[1;36m10\u001b[0m. \u001b[1;36m10\u001b[0m. \u001b[1;36m10\u001b[0m. \u001b[1;36m10\u001b[0m. \u001b[1;36m10\u001b[0m.\u001b[1m]\u001b[0m\n"
      ]
     },
     "metadata": {},
     "output_type": "display_data"
    },
    {
     "data": {
      "text/html": [
       "<pre style=\"white-space:pre;overflow-x:auto;line-height:normal;font-family:Menlo,'DejaVu Sans Mono',consolas,'Courier New',monospace\"><span style=\"font-weight: bold\">[</span> <span style=\"color: #008080; text-decoration-color: #008080; font-weight: bold\">178.61365299</span> <span style=\"color: #008080; text-decoration-color: #008080; font-weight: bold\">-128.13544968</span>  <span style=\"color: #008080; text-decoration-color: #008080; font-weight: bold\">230.35919956</span> <span style=\"color: #008080; text-decoration-color: #008080; font-weight: bold\">-209.59068092</span>  <span style=\"color: #008080; text-decoration-color: #008080; font-weight: bold\">191.95060342</span>\n",
       "  <span style=\"color: #008080; text-decoration-color: #008080; font-weight: bold\">-35.0940574</span>  <span style=\"color: #008080; text-decoration-color: #008080; font-weight: bold\">-100.13561299</span> <span style=\"color: #008080; text-decoration-color: #008080; font-weight: bold\">-115.7262572</span>   <span style=\"color: #008080; text-decoration-color: #008080; font-weight: bold\">169.75619472</span>   <span style=\"color: #008080; text-decoration-color: #008080; font-weight: bold\">-2.46851125</span>\n",
       "  <span style=\"color: #008080; text-decoration-color: #008080; font-weight: bold\">-46.64317889</span>    <span style=\"color: #008080; text-decoration-color: #008080; font-weight: bold\">0.42266263</span><span style=\"font-weight: bold\">]</span>\n",
       "</pre>\n"
      ],
      "text/plain": [
       "\u001b[1m[\u001b[0m \u001b[1;36m178.61365299\u001b[0m \u001b[1;36m-128.13544968\u001b[0m  \u001b[1;36m230.35919956\u001b[0m \u001b[1;36m-209.59068092\u001b[0m  \u001b[1;36m191.95060342\u001b[0m\n",
       "  \u001b[1;36m-35.0940574\u001b[0m  \u001b[1;36m-100.13561299\u001b[0m \u001b[1;36m-115.7262572\u001b[0m   \u001b[1;36m169.75619472\u001b[0m   \u001b[1;36m-2.46851125\u001b[0m\n",
       "  \u001b[1;36m-46.64317889\u001b[0m    \u001b[1;36m0.42266263\u001b[0m\u001b[1m]\u001b[0m\n"
      ]
     },
     "metadata": {},
     "output_type": "display_data"
    },
    {
     "data": {
      "text/html": [
       "<pre style=\"white-space:pre;overflow-x:auto;line-height:normal;font-family:Menlo,'DejaVu Sans Mono',consolas,'Courier New',monospace\"><span style=\"font-weight: bold\">[</span> <span style=\"color: #008080; text-decoration-color: #008080; font-weight: bold\">92.19497199</span>  <span style=\"color: #008080; text-decoration-color: #008080; font-weight: bold\">30.19994187</span>  <span style=\"color: #008080; text-decoration-color: #008080; font-weight: bold\">53.61468213</span>  <span style=\"color: #008080; text-decoration-color: #008080; font-weight: bold\">-8.75929839</span>  <span style=\"color: #008080; text-decoration-color: #008080; font-weight: bold\">36.69801619</span>\n",
       "  <span style=\"color: #008080; text-decoration-color: #008080; font-weight: bold\">23.30189782</span> <span style=\"color: #008080; text-decoration-color: #008080; font-weight: bold\">-79.87605125</span> <span style=\"color: #008080; text-decoration-color: #008080; font-weight: bold\">-97.78586107</span> <span style=\"color: #008080; text-decoration-color: #008080; font-weight: bold\">100.60695896</span>  <span style=\"color: #008080; text-decoration-color: #008080; font-weight: bold\">49.23631889</span>\n",
       " <span style=\"color: #008080; text-decoration-color: #008080; font-weight: bold\">-56.28073191</span>   <span style=\"color: #008080; text-decoration-color: #008080; font-weight: bold\">1.76650944</span><span style=\"font-weight: bold\">]</span>\n",
       "</pre>\n"
      ],
      "text/plain": [
       "\u001b[1m[\u001b[0m \u001b[1;36m92.19497199\u001b[0m  \u001b[1;36m30.19994187\u001b[0m  \u001b[1;36m53.61468213\u001b[0m  \u001b[1;36m-8.75929839\u001b[0m  \u001b[1;36m36.69801619\u001b[0m\n",
       "  \u001b[1;36m23.30189782\u001b[0m \u001b[1;36m-79.87605125\u001b[0m \u001b[1;36m-97.78586107\u001b[0m \u001b[1;36m100.60695896\u001b[0m  \u001b[1;36m49.23631889\u001b[0m\n",
       " \u001b[1;36m-56.28073191\u001b[0m   \u001b[1;36m1.76650944\u001b[0m\u001b[1m]\u001b[0m\n"
      ]
     },
     "metadata": {},
     "output_type": "display_data"
    },
    {
     "data": {
      "text/html": [
       "<pre style=\"white-space:pre;overflow-x:auto;line-height:normal;font-family:Menlo,'DejaVu Sans Mono',consolas,'Courier New',monospace\"><span style=\"font-weight: bold\">[</span> <span style=\"color: #008080; text-decoration-color: #008080; font-weight: bold\">47.01485331</span>  <span style=\"color: #008080; text-decoration-color: #008080; font-weight: bold\">47.06852895</span>  <span style=\"color: #008080; text-decoration-color: #008080; font-weight: bold\">33.02317244</span>  <span style=\"color: #008080; text-decoration-color: #008080; font-weight: bold\">13.81979266</span>  <span style=\"color: #008080; text-decoration-color: #008080; font-weight: bold\">17.16209417</span>\n",
       "  <span style=\"color: #008080; text-decoration-color: #008080; font-weight: bold\">28.13450662</span> <span style=\"color: #008080; text-decoration-color: #008080; font-weight: bold\">-34.71797001</span> <span style=\"color: #008080; text-decoration-color: #008080; font-weight: bold\">-67.60292289</span>  <span style=\"color: #008080; text-decoration-color: #008080; font-weight: bold\">34.23443644</span>  <span style=\"color: #008080; text-decoration-color: #008080; font-weight: bold\">72.33131034</span>\n",
       " <span style=\"color: #008080; text-decoration-color: #008080; font-weight: bold\">-52.10947282</span>   <span style=\"color: #008080; text-decoration-color: #008080; font-weight: bold\">1.95339854</span><span style=\"font-weight: bold\">]</span>\n",
       "</pre>\n"
      ],
      "text/plain": [
       "\u001b[1m[\u001b[0m \u001b[1;36m47.01485331\u001b[0m  \u001b[1;36m47.06852895\u001b[0m  \u001b[1;36m33.02317244\u001b[0m  \u001b[1;36m13.81979266\u001b[0m  \u001b[1;36m17.16209417\u001b[0m\n",
       "  \u001b[1;36m28.13450662\u001b[0m \u001b[1;36m-34.71797001\u001b[0m \u001b[1;36m-67.60292289\u001b[0m  \u001b[1;36m34.23443644\u001b[0m  \u001b[1;36m72.33131034\u001b[0m\n",
       " \u001b[1;36m-52.10947282\u001b[0m   \u001b[1;36m1.95339854\u001b[0m\u001b[1m]\u001b[0m\n"
      ]
     },
     "metadata": {},
     "output_type": "display_data"
    },
    {
     "data": {
      "text/html": [
       "<pre style=\"white-space:pre;overflow-x:auto;line-height:normal;font-family:Menlo,'DejaVu Sans Mono',consolas,'Courier New',monospace\"><span style=\"font-weight: bold\">{</span><span style=\"color: #008080; text-decoration-color: #008080; font-weight: bold\">0</span>: <span style=\"color: #008080; text-decoration-color: #008080; font-weight: bold\">9.421792394983761</span>, <span style=\"color: #008080; text-decoration-color: #008080; font-weight: bold\">1</span>: <span style=\"color: #008080; text-decoration-color: #008080; font-weight: bold\">10.631426685131627</span>, <span style=\"color: #008080; text-decoration-color: #008080; font-weight: bold\">2</span>: <span style=\"color: #008080; text-decoration-color: #008080; font-weight: bold\">10.750134554986712</span>, <span style=\"color: #008080; text-decoration-color: #008080; font-weight: bold\">3</span>: <span style=\"color: #008080; text-decoration-color: #008080; font-weight: bold\">10.666179371011749</span><span style=\"font-weight: bold\">}</span>\n",
       "</pre>\n"
      ],
      "text/plain": [
       "\u001b[1m{\u001b[0m\u001b[1;36m0\u001b[0m: \u001b[1;36m9.421792394983761\u001b[0m, \u001b[1;36m1\u001b[0m: \u001b[1;36m10.631426685131627\u001b[0m, \u001b[1;36m2\u001b[0m: \u001b[1;36m10.750134554986712\u001b[0m, \u001b[1;36m3\u001b[0m: \u001b[1;36m10.666179371011749\u001b[0m\u001b[1m}\u001b[0m\n"
      ]
     },
     "metadata": {},
     "output_type": "display_data"
    },
    {
     "data": {
      "image/png": "[encoded data removed]"
     },
     "metadata": {
      "image/png": {
       "height": 480,
       "width": 640
      }
     },
     "output_type": "display_data"
    },
    {
     "data": {
      "text/html": [
       "<pre style=\"white-space:pre;overflow-x:auto;line-height:normal;font-family:Menlo,'DejaVu Sans Mono',consolas,'Courier New',monospace\">\n",
       "</pre>\n"
      ],
      "text/plain": [
       "\n"
      ]
     },
     "metadata": {},
     "output_type": "display_data"
    }
   ],
   "source": [
    "from RL_moves_GARCH import OptionPricing_RL_move_GARCH"
   ]
  },
  {
   "cell_type": "code",
   "execution_count": 31,
   "metadata": {},
   "outputs": [],
   "source": [
    "option_pricing_rl_move = OptionPricing_RL_move_GARCH(num_scoring_paths_val=10000, \n",
    "                                               num_training_paths_lspi_val=5000)\n",
    "\n",
    "#price_ite, decision_ite = option_pricing_rl_move.run()"
   ]
  },
  {
   "cell_type": "code",
   "execution_count": 32,
   "metadata": {},
   "outputs": [
    {
     "data": {
      "text/html": [
       "<pre style=\"white-space:pre;overflow-x:auto;line-height:normal;font-family:Menlo,'DejaVu Sans Mono',consolas,'Courier New',monospace\"><span style=\"font-weight: bold\">[</span> <span style=\"color: #008080; text-decoration-color: #008080; font-weight: bold\">1.19780171e+03</span> <span style=\"color: #008080; text-decoration-color: #008080; font-weight: bold\">-2.65009269e+03</span>  <span style=\"color: #008080; text-decoration-color: #008080; font-weight: bold\">2.61275087e+03</span> <span style=\"color: #008080; text-decoration-color: #008080; font-weight: bold\">-2.11931340e+03</span>\n",
       "  <span style=\"color: #008080; text-decoration-color: #008080; font-weight: bold\">1.24550736e+03</span> <span style=\"color: #008080; text-decoration-color: #008080; font-weight: bold\">-3.24003972e+02</span>  <span style=\"color: #008080; text-decoration-color: #008080; font-weight: bold\">3.30243151e+02</span> <span style=\"color: #008080; text-decoration-color: #008080; font-weight: bold\">-3.09389391e+02</span>\n",
       "  <span style=\"color: #008080; text-decoration-color: #008080; font-weight: bold\">9.05704081e+01</span>  <span style=\"color: #008080; text-decoration-color: #008080; font-weight: bold\">1.27509032e+02</span> <span style=\"color: #008080; text-decoration-color: #008080; font-weight: bold\">-8.66684758e+01</span>  <span style=\"color: #008080; text-decoration-color: #008080; font-weight: bold\">3.77737150e-01</span><span style=\"font-weight: bold\">]</span>\n",
       "</pre>\n"
      ],
      "text/plain": [
       "\u001b[1m[\u001b[0m \u001b[1;36m1.19780171e+03\u001b[0m \u001b[1;36m-2.65009269e+03\u001b[0m  \u001b[1;36m2.61275087e+03\u001b[0m \u001b[1;36m-2.11931340e+03\u001b[0m\n",
       "  \u001b[1;36m1.24550736e+03\u001b[0m \u001b[1;36m-3.24003972e+02\u001b[0m  \u001b[1;36m3.30243151e+02\u001b[0m \u001b[1;36m-3.09389391e+02\u001b[0m\n",
       "  \u001b[1;36m9.05704081e+01\u001b[0m  \u001b[1;36m1.27509032e+02\u001b[0m \u001b[1;36m-8.66684758e+01\u001b[0m  \u001b[1;36m3.77737150e-01\u001b[0m\u001b[1m]\u001b[0m\n"
      ]
     },
     "metadata": {},
     "output_type": "display_data"
    },
    {
     "data": {
      "text/html": [
       "<pre style=\"white-space:pre;overflow-x:auto;line-height:normal;font-family:Menlo,'DejaVu Sans Mono',consolas,'Courier New',monospace\"><span style=\"font-weight: bold\">[</span> <span style=\"color: #008080; text-decoration-color: #008080; font-weight: bold\">484.93656824</span> <span style=\"color: #008080; text-decoration-color: #008080; font-weight: bold\">-933.45467865</span>  <span style=\"color: #008080; text-decoration-color: #008080; font-weight: bold\">963.90267664</span> <span style=\"color: #008080; text-decoration-color: #008080; font-weight: bold\">-748.04605308</span>  <span style=\"color: #008080; text-decoration-color: #008080; font-weight: bold\">454.89260129</span>\n",
       "  <span style=\"color: #008080; text-decoration-color: #008080; font-weight: bold\">-96.75803202</span>   <span style=\"color: #008080; text-decoration-color: #008080; font-weight: bold\">78.1851995</span>  <span style=\"color: #008080; text-decoration-color: #008080; font-weight: bold\">-170.83880553</span>   <span style=\"color: #008080; text-decoration-color: #008080; font-weight: bold\">80.29354537</span>   <span style=\"color: #008080; text-decoration-color: #008080; font-weight: bold\">85.75753649</span>\n",
       "  <span style=\"color: #008080; text-decoration-color: #008080; font-weight: bold\">-66.3237618</span>     <span style=\"color: #008080; text-decoration-color: #008080; font-weight: bold\">1.72054571</span><span style=\"font-weight: bold\">]</span>\n",
       "</pre>\n"
      ],
      "text/plain": [
       "\u001b[1m[\u001b[0m \u001b[1;36m484.93656824\u001b[0m \u001b[1;36m-933.45467865\u001b[0m  \u001b[1;36m963.90267664\u001b[0m \u001b[1;36m-748.04605308\u001b[0m  \u001b[1;36m454.89260129\u001b[0m\n",
       "  \u001b[1;36m-96.75803202\u001b[0m   \u001b[1;36m78.1851995\u001b[0m  \u001b[1;36m-170.83880553\u001b[0m   \u001b[1;36m80.29354537\u001b[0m   \u001b[1;36m85.75753649\u001b[0m\n",
       "  \u001b[1;36m-66.3237618\u001b[0m     \u001b[1;36m1.72054571\u001b[0m\u001b[1m]\u001b[0m\n"
      ]
     },
     "metadata": {},
     "output_type": "display_data"
    },
    {
     "data": {
      "text/html": [
       "<pre style=\"white-space:pre;overflow-x:auto;line-height:normal;font-family:Menlo,'DejaVu Sans Mono',consolas,'Courier New',monospace\"><span style=\"font-weight: bold\">[</span> <span style=\"color: #008080; text-decoration-color: #008080; font-weight: bold\">298.83681941</span> <span style=\"color: #008080; text-decoration-color: #008080; font-weight: bold\">-574.75113358</span>  <span style=\"color: #008080; text-decoration-color: #008080; font-weight: bold\">619.63585776</span> <span style=\"color: #008080; text-decoration-color: #008080; font-weight: bold\">-462.68820705</span>  <span style=\"color: #008080; text-decoration-color: #008080; font-weight: bold\">287.09194861</span>\n",
       "  <span style=\"color: #008080; text-decoration-color: #008080; font-weight: bold\">-50.16021995</span>   <span style=\"color: #008080; text-decoration-color: #008080; font-weight: bold\">68.0274049</span>  <span style=\"color: #008080; text-decoration-color: #008080; font-weight: bold\">-111.5071656</span>    <span style=\"color: #008080; text-decoration-color: #008080; font-weight: bold\">20.78886898</span>   <span style=\"color: #008080; text-decoration-color: #008080; font-weight: bold\">90.50932364</span>\n",
       "  <span style=\"color: #008080; text-decoration-color: #008080; font-weight: bold\">-55.21631313</span>    <span style=\"color: #008080; text-decoration-color: #008080; font-weight: bold\">1.89967465</span><span style=\"font-weight: bold\">]</span>\n",
       "</pre>\n"
      ],
      "text/plain": [
       "\u001b[1m[\u001b[0m \u001b[1;36m298.83681941\u001b[0m \u001b[1;36m-574.75113358\u001b[0m  \u001b[1;36m619.63585776\u001b[0m \u001b[1;36m-462.68820705\u001b[0m  \u001b[1;36m287.09194861\u001b[0m\n",
       "  \u001b[1;36m-50.16021995\u001b[0m   \u001b[1;36m68.0274049\u001b[0m  \u001b[1;36m-111.5071656\u001b[0m    \u001b[1;36m20.78886898\u001b[0m   \u001b[1;36m90.50932364\u001b[0m\n",
       "  \u001b[1;36m-55.21631313\u001b[0m    \u001b[1;36m1.89967465\u001b[0m\u001b[1m]\u001b[0m\n"
      ]
     },
     "metadata": {},
     "output_type": "display_data"
    },
    {
     "data": {
      "text/html": [
       "<pre style=\"white-space:pre;overflow-x:auto;line-height:normal;font-family:Menlo,'DejaVu Sans Mono',consolas,'Courier New',monospace\"><span style=\"font-weight: bold\">[</span><span style=\"color: #008080; text-decoration-color: #008080; font-weight: bold\">10</span>. <span style=\"color: #008080; text-decoration-color: #008080; font-weight: bold\">10</span>. <span style=\"color: #008080; text-decoration-color: #008080; font-weight: bold\">10</span>. <span style=\"color: #008080; text-decoration-color: #008080; font-weight: bold\">10</span>. <span style=\"color: #008080; text-decoration-color: #008080; font-weight: bold\">10</span>. <span style=\"color: #008080; text-decoration-color: #008080; font-weight: bold\">10</span>. <span style=\"color: #008080; text-decoration-color: #008080; font-weight: bold\">10</span>. <span style=\"color: #008080; text-decoration-color: #008080; font-weight: bold\">10</span>. <span style=\"color: #008080; text-decoration-color: #008080; font-weight: bold\">10</span>. <span style=\"color: #008080; text-decoration-color: #008080; font-weight: bold\">10</span>. <span style=\"color: #008080; text-decoration-color: #008080; font-weight: bold\">10</span>. <span style=\"color: #008080; text-decoration-color: #008080; font-weight: bold\">10</span>.<span style=\"font-weight: bold\">]</span>\n",
       "</pre>\n"
      ],
      "text/plain": [
       "\u001b[1m[\u001b[0m\u001b[1;36m10\u001b[0m. \u001b[1;36m10\u001b[0m. \u001b[1;36m10\u001b[0m. \u001b[1;36m10\u001b[0m. \u001b[1;36m10\u001b[0m. \u001b[1;36m10\u001b[0m. \u001b[1;36m10\u001b[0m. \u001b[1;36m10\u001b[0m. \u001b[1;36m10\u001b[0m. \u001b[1;36m10\u001b[0m. \u001b[1;36m10\u001b[0m. \u001b[1;36m10\u001b[0m.\u001b[1m]\u001b[0m\n"
      ]
     },
     "metadata": {},
     "output_type": "display_data"
    },
    {
     "data": {
      "text/html": [
       "<pre style=\"white-space:pre;overflow-x:auto;line-height:normal;font-family:Menlo,'DejaVu Sans Mono',consolas,'Courier New',monospace\"><span style=\"font-weight: bold\">[</span> <span style=\"color: #008080; text-decoration-color: #008080; font-weight: bold\">1.19780171e+03</span> <span style=\"color: #008080; text-decoration-color: #008080; font-weight: bold\">-2.65009269e+03</span>  <span style=\"color: #008080; text-decoration-color: #008080; font-weight: bold\">2.61275087e+03</span> <span style=\"color: #008080; text-decoration-color: #008080; font-weight: bold\">-2.11931340e+03</span>\n",
       "  <span style=\"color: #008080; text-decoration-color: #008080; font-weight: bold\">1.24550736e+03</span> <span style=\"color: #008080; text-decoration-color: #008080; font-weight: bold\">-3.24003972e+02</span>  <span style=\"color: #008080; text-decoration-color: #008080; font-weight: bold\">3.30243151e+02</span> <span style=\"color: #008080; text-decoration-color: #008080; font-weight: bold\">-3.09389391e+02</span>\n",
       "  <span style=\"color: #008080; text-decoration-color: #008080; font-weight: bold\">9.05704081e+01</span>  <span style=\"color: #008080; text-decoration-color: #008080; font-weight: bold\">1.27509032e+02</span> <span style=\"color: #008080; text-decoration-color: #008080; font-weight: bold\">-8.66684758e+01</span>  <span style=\"color: #008080; text-decoration-color: #008080; font-weight: bold\">3.77737150e-01</span><span style=\"font-weight: bold\">]</span>\n",
       "</pre>\n"
      ],
      "text/plain": [
       "\u001b[1m[\u001b[0m \u001b[1;36m1.19780171e+03\u001b[0m \u001b[1;36m-2.65009269e+03\u001b[0m  \u001b[1;36m2.61275087e+03\u001b[0m \u001b[1;36m-2.11931340e+03\u001b[0m\n",
       "  \u001b[1;36m1.24550736e+03\u001b[0m \u001b[1;36m-3.24003972e+02\u001b[0m  \u001b[1;36m3.30243151e+02\u001b[0m \u001b[1;36m-3.09389391e+02\u001b[0m\n",
       "  \u001b[1;36m9.05704081e+01\u001b[0m  \u001b[1;36m1.27509032e+02\u001b[0m \u001b[1;36m-8.66684758e+01\u001b[0m  \u001b[1;36m3.77737150e-01\u001b[0m\u001b[1m]\u001b[0m\n"
      ]
     },
     "metadata": {},
     "output_type": "display_data"
    },
    {
     "data": {
      "text/html": [
       "<pre style=\"white-space:pre;overflow-x:auto;line-height:normal;font-family:Menlo,'DejaVu Sans Mono',consolas,'Courier New',monospace\"><span style=\"font-weight: bold\">[</span> <span style=\"color: #008080; text-decoration-color: #008080; font-weight: bold\">484.93656824</span> <span style=\"color: #008080; text-decoration-color: #008080; font-weight: bold\">-933.45467865</span>  <span style=\"color: #008080; text-decoration-color: #008080; font-weight: bold\">963.90267664</span> <span style=\"color: #008080; text-decoration-color: #008080; font-weight: bold\">-748.04605308</span>  <span style=\"color: #008080; text-decoration-color: #008080; font-weight: bold\">454.89260129</span>\n",
       "  <span style=\"color: #008080; text-decoration-color: #008080; font-weight: bold\">-96.75803202</span>   <span style=\"color: #008080; text-decoration-color: #008080; font-weight: bold\">78.1851995</span>  <span style=\"color: #008080; text-decoration-color: #008080; font-weight: bold\">-170.83880553</span>   <span style=\"color: #008080; text-decoration-color: #008080; font-weight: bold\">80.29354537</span>   <span style=\"color: #008080; text-decoration-color: #008080; font-weight: bold\">85.75753649</span>\n",
       "  <span style=\"color: #008080; text-decoration-color: #008080; font-weight: bold\">-66.3237618</span>     <span style=\"color: #008080; text-decoration-color: #008080; font-weight: bold\">1.72054571</span><span style=\"font-weight: bold\">]</span>\n",
       "</pre>\n"
      ],
      "text/plain": [
       "\u001b[1m[\u001b[0m \u001b[1;36m484.93656824\u001b[0m \u001b[1;36m-933.45467865\u001b[0m  \u001b[1;36m963.90267664\u001b[0m \u001b[1;36m-748.04605308\u001b[0m  \u001b[1;36m454.89260129\u001b[0m\n",
       "  \u001b[1;36m-96.75803202\u001b[0m   \u001b[1;36m78.1851995\u001b[0m  \u001b[1;36m-170.83880553\u001b[0m   \u001b[1;36m80.29354537\u001b[0m   \u001b[1;36m85.75753649\u001b[0m\n",
       "  \u001b[1;36m-66.3237618\u001b[0m     \u001b[1;36m1.72054571\u001b[0m\u001b[1m]\u001b[0m\n"
      ]
     },
     "metadata": {},
     "output_type": "display_data"
    },
    {
     "data": {
      "text/html": [
       "<pre style=\"white-space:pre;overflow-x:auto;line-height:normal;font-family:Menlo,'DejaVu Sans Mono',consolas,'Courier New',monospace\"><span style=\"font-weight: bold\">[</span> <span style=\"color: #008080; text-decoration-color: #008080; font-weight: bold\">298.83681941</span> <span style=\"color: #008080; text-decoration-color: #008080; font-weight: bold\">-574.75113358</span>  <span style=\"color: #008080; text-decoration-color: #008080; font-weight: bold\">619.63585776</span> <span style=\"color: #008080; text-decoration-color: #008080; font-weight: bold\">-462.68820705</span>  <span style=\"color: #008080; text-decoration-color: #008080; font-weight: bold\">287.09194861</span>\n",
       "  <span style=\"color: #008080; text-decoration-color: #008080; font-weight: bold\">-50.16021995</span>   <span style=\"color: #008080; text-decoration-color: #008080; font-weight: bold\">68.0274049</span>  <span style=\"color: #008080; text-decoration-color: #008080; font-weight: bold\">-111.5071656</span>    <span style=\"color: #008080; text-decoration-color: #008080; font-weight: bold\">20.78886898</span>   <span style=\"color: #008080; text-decoration-color: #008080; font-weight: bold\">90.50932364</span>\n",
       "  <span style=\"color: #008080; text-decoration-color: #008080; font-weight: bold\">-55.21631313</span>    <span style=\"color: #008080; text-decoration-color: #008080; font-weight: bold\">1.89967465</span><span style=\"font-weight: bold\">]</span>\n",
       "</pre>\n"
      ],
      "text/plain": [
       "\u001b[1m[\u001b[0m \u001b[1;36m298.83681941\u001b[0m \u001b[1;36m-574.75113358\u001b[0m  \u001b[1;36m619.63585776\u001b[0m \u001b[1;36m-462.68820705\u001b[0m  \u001b[1;36m287.09194861\u001b[0m\n",
       "  \u001b[1;36m-50.16021995\u001b[0m   \u001b[1;36m68.0274049\u001b[0m  \u001b[1;36m-111.5071656\u001b[0m    \u001b[1;36m20.78886898\u001b[0m   \u001b[1;36m90.50932364\u001b[0m\n",
       "  \u001b[1;36m-55.21631313\u001b[0m    \u001b[1;36m1.89967465\u001b[0m\u001b[1m]\u001b[0m\n"
      ]
     },
     "metadata": {},
     "output_type": "display_data"
    }
   ],
   "source": [
    "price_ite, decision_ite = option_pricing_rl_move.run()"
   ]
  },
  {
   "cell_type": "code",
   "execution_count": 33,
   "metadata": {},
   "outputs": [
    {
     "data": {
      "image/png": "[encoded data removed]"
     },
     "metadata": {
      "image/png": {
       "height": 480,
       "width": 640
      }
     },
     "output_type": "display_data"
    },
    {
     "data": {
      "text/html": [
       "<pre style=\"white-space:pre;overflow-x:auto;line-height:normal;font-family:Menlo,'DejaVu Sans Mono',consolas,'Courier New',monospace\">\n",
       "</pre>\n"
      ],
      "text/plain": [
       "\n"
      ]
     },
     "metadata": {},
     "output_type": "display_data"
    }
   ],
   "source": [
    "ite_plot =option_pricing_rl_move.clean_and_visualize_iteration_decision(decision_ite)\n",
    "print(ite_plot)"
   ]
  },
  {
   "cell_type": "code",
   "execution_count": null,
   "metadata": {},
   "outputs": [],
   "source": [
    "print(price_ite)"
   ]
  },
  {
   "cell_type": "code",
   "execution_count": 34,
   "metadata": {},
   "outputs": [],
   "source": [
    "def clean_and_visualize_iteration_decision(stoptime_rl_iteration):\n",
    "        df = pd.DataFrame(stoptime_rl_iteration).melt(var_name='IterationNumber', value_name='Values')\n",
    "        df['Iter'] = pd.Categorical(df['IterationNumber'])\n",
    "\n",
    "        g = (ggplot(df, aes(x='Values'))\n",
    "             + geom_histogram(position=\"dodge2\", binwidth=0.5, center=0,  show_legend=False,\n",
    "                              color='black', fill='red')\n",
    "             + scale_x_continuous(breaks=range(0, 51, 2))\n",
    "             + facet_grid('Iter ~ .', scales='fixed') +\n",
    " #            + labs(title='Histogram of Exercise Decision Times, at each Iteration of Q-Learning') +\n",
    "             labs(y='Frequency (from total of 20,000 Paths)', x=\"The Stopping Time Step (k)\") +\n",
    "                theme(axis_text_x=element_text(size=10, color=\"black\",angle=90),\n",
    "                text = element_text(size = 10,color='black'),\n",
    "                axis_text_y=element_text(size=10, color=\"black\")))\n",
    "               # ggtitle(\"S0 = 36, Strike Price = 40, Volatility = 0.2\"))\n",
    "        return g"
   ]
  },
  {
   "cell_type": "code",
   "execution_count": 38,
   "metadata": {},
   "outputs": [
    {
     "name": "stderr",
     "output_type": "stream",
     "text": [
      "/home/peyman/miniconda3/envs/RL_finance/lib/python3.10/site-packages/plotnine/ggplot.py:587: PlotnineWarning: Saving 6.4 x 4.8 in image.\n",
      "/home/peyman/miniconda3/envs/RL_finance/lib/python3.10/site-packages/plotnine/ggplot.py:588: PlotnineWarning: Filename: ../MDPI/Figs/price_ite_garch_plot.png\n"
     ]
    }
   ],
   "source": [
    "price_ite_garch_plot = clean_and_visualize_iteration_decision(decision_ite)\n",
    "\n",
    "from plotnine import ggsave\n",
    "ggsave(self=price_ite_garch_plot, filename=\"../MDPI/Figs/price_ite_garch_plot.png\", dpi = 300)"
   ]
  },
  {
   "cell_type": "code",
   "execution_count": 36,
   "metadata": {},
   "outputs": [
    {
     "data": {
      "text/html": [
       "<pre style=\"white-space:pre;overflow-x:auto;line-height:normal;font-family:Menlo,'DejaVu Sans Mono',consolas,'Courier New',monospace\">\n",
       "<span style=\"font-weight: bold\">{</span>\n",
       "    <span style=\"color: #008080; text-decoration-color: #008080; font-weight: bold\">0</span>: <span style=\"color: #008080; text-decoration-color: #008080; font-weight: bold\">9.568038296707389</span>,\n",
       "    <span style=\"color: #008080; text-decoration-color: #008080; font-weight: bold\">1</span>: <span style=\"color: #008080; text-decoration-color: #008080; font-weight: bold\">10.689990180539304</span>,\n",
       "    <span style=\"color: #008080; text-decoration-color: #008080; font-weight: bold\">2</span>: <span style=\"color: #008080; text-decoration-color: #008080; font-weight: bold\">10.736212726244023</span>,\n",
       "    <span style=\"color: #008080; text-decoration-color: #008080; font-weight: bold\">3</span>: <span style=\"color: #008080; text-decoration-color: #008080; font-weight: bold\">10.632004669635704</span>\n",
       "<span style=\"font-weight: bold\">}</span>\n",
       "</pre>\n"
      ],
      "text/plain": [
       "\n",
       "\u001b[1m{\u001b[0m\n",
       "    \u001b[1;36m0\u001b[0m: \u001b[1;36m9.568038296707389\u001b[0m,\n",
       "    \u001b[1;36m1\u001b[0m: \u001b[1;36m10.689990180539304\u001b[0m,\n",
       "    \u001b[1;36m2\u001b[0m: \u001b[1;36m10.736212726244023\u001b[0m,\n",
       "    \u001b[1;36m3\u001b[0m: \u001b[1;36m10.632004669635704\u001b[0m\n",
       "\u001b[1m}\u001b[0m\n"
      ]
     },
     "metadata": {},
     "output_type": "display_data"
    }
   ],
   "source": [
    "price_ite"
   ]
  }
 ],
 "metadata": {
  "kernelspec": {
   "display_name": "RL_finance",
   "language": "python",
   "name": "python3"
  },
  "language_info": {
   "codemirror_mode": {
    "name": "ipython",
    "version": 3
   },
   "file_extension": ".py",
   "mimetype": "text/x-python",
   "name": "python",
   "nbconvert_exporter": "python",
   "pygments_lexer": "ipython3",
   "version": "3.10.4"
  }
 },
 "nbformat": 4,
 "nbformat_minor": 2
}
