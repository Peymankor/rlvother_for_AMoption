{
 "cells": [
  {
   "cell_type": "markdown",
   "metadata": {},
   "source": [
    "# LSM Approach"
   ]
  },
  {
   "cell_type": "markdown",
   "metadata": {},
   "source": [
    "## Reproducing \"A Numerical Example\" of LSM Paper\n",
    "Link to the paper: (Longstaff & Schwartz, 2001)[https://people.math.ethz.ch/~hjfurrer/teaching/LongstaffSchwartzAmericanOptionsLeastSquareMonteCarlo.pdf]"
   ]
  },
  {
   "cell_type": "markdown",
   "metadata": {},
   "source": [
    "### Building the table of Stock price paths"
   ]
  },
  {
   "cell_type": "code",
   "execution_count": 1,
   "metadata": {},
   "outputs": [],
   "source": [
    "import numpy as np\n",
    "import pandas as pd\n",
    "from scipy.stats import norm"
   ]
  },
  {
   "cell_type": "code",
   "execution_count": 2,
   "metadata": {},
   "outputs": [],
   "source": [
    "# We generate the prices in eight paths, according to the table of LSM paper\n",
    "# eight paths\n",
    "path_1 = np.array([1.00, 1.09, 1.08, 1.34])\n",
    "path_2 = np.array([1.00, 1.16, 1.26, 1.54])\n",
    "path_3 = np.array([1.00, 1.22, 1.07, 1.03])\n",
    "path_4 = np.array([1.00, 0.93, 0.97, 0.92])\n",
    "path_5 = np.array([1.00, 1.11, 1.56, 1.52])\n",
    "path_6 = np.array([1.00, 0.76, 0.77, 0.90])\n",
    "path_7 = np.array([1.00, 0.92, 0.84, 1.01])\n",
    "path_8 = np.array([1.00, 0.88, 1.22, 1.34])"
   ]
  },
  {
   "cell_type": "code",
   "execution_count": 3,
   "metadata": {},
   "outputs": [
    {
     "data": {
      "text/plain": [
       "array([[1.  , 1.09, 1.08, 1.34],\n",
       "       [1.  , 1.16, 1.26, 1.54],\n",
       "       [1.  , 1.22, 1.07, 1.03],\n",
       "       [1.  , 0.93, 0.97, 0.92],\n",
       "       [1.  , 1.11, 1.56, 1.52],\n",
       "       [1.  , 0.76, 0.77, 0.9 ],\n",
       "       [1.  , 0.92, 0.84, 1.01],\n",
       "       [1.  , 0.88, 1.22, 1.34]])"
      ]
     },
     "execution_count": 3,
     "metadata": {},
     "output_type": "execute_result"
    }
   ],
   "source": [
    "price_paths = np.array([path_1, path_2, path_3, path_4, \n",
    "            path_5, path_6, path_7,path_8])\n",
    "price_paths"
   ]
  },
  {
   "cell_type": "code",
   "execution_count": 4,
   "metadata": {},
   "outputs": [
    {
     "data": {
      "text/html": [
       "<div>\n",
       "<style scoped>\n",
       "    .dataframe tbody tr th:only-of-type {\n",
       "        vertical-align: middle;\n",
       "    }\n",
       "\n",
       "    .dataframe tbody tr th {\n",
       "        vertical-align: top;\n",
       "    }\n",
       "\n",
       "    .dataframe thead th {\n",
       "        text-align: right;\n",
       "    }\n",
       "</style>\n",
       "<table border=\"1\" class=\"dataframe\">\n",
       "  <thead>\n",
       "    <tr style=\"text-align: right;\">\n",
       "      <th></th>\n",
       "      <th>t=0</th>\n",
       "      <th>t=1</th>\n",
       "      <th>t=2</th>\n",
       "      <th>t=3</th>\n",
       "    </tr>\n",
       "    <tr>\n",
       "      <th>Path</th>\n",
       "      <th></th>\n",
       "      <th></th>\n",
       "      <th></th>\n",
       "      <th></th>\n",
       "    </tr>\n",
       "  </thead>\n",
       "  <tbody>\n",
       "    <tr>\n",
       "      <th>1</th>\n",
       "      <td>1.0</td>\n",
       "      <td>1.09</td>\n",
       "      <td>1.08</td>\n",
       "      <td>1.34</td>\n",
       "    </tr>\n",
       "    <tr>\n",
       "      <th>2</th>\n",
       "      <td>1.0</td>\n",
       "      <td>1.16</td>\n",
       "      <td>1.26</td>\n",
       "      <td>1.54</td>\n",
       "    </tr>\n",
       "    <tr>\n",
       "      <th>3</th>\n",
       "      <td>1.0</td>\n",
       "      <td>1.22</td>\n",
       "      <td>1.07</td>\n",
       "      <td>1.03</td>\n",
       "    </tr>\n",
       "    <tr>\n",
       "      <th>4</th>\n",
       "      <td>1.0</td>\n",
       "      <td>0.93</td>\n",
       "      <td>0.97</td>\n",
       "      <td>0.92</td>\n",
       "    </tr>\n",
       "    <tr>\n",
       "      <th>5</th>\n",
       "      <td>1.0</td>\n",
       "      <td>1.11</td>\n",
       "      <td>1.56</td>\n",
       "      <td>1.52</td>\n",
       "    </tr>\n",
       "    <tr>\n",
       "      <th>6</th>\n",
       "      <td>1.0</td>\n",
       "      <td>0.76</td>\n",
       "      <td>0.77</td>\n",
       "      <td>0.90</td>\n",
       "    </tr>\n",
       "    <tr>\n",
       "      <th>7</th>\n",
       "      <td>1.0</td>\n",
       "      <td>0.92</td>\n",
       "      <td>0.84</td>\n",
       "      <td>1.01</td>\n",
       "    </tr>\n",
       "    <tr>\n",
       "      <th>8</th>\n",
       "      <td>1.0</td>\n",
       "      <td>0.88</td>\n",
       "      <td>1.22</td>\n",
       "      <td>1.34</td>\n",
       "    </tr>\n",
       "  </tbody>\n",
       "</table>\n",
       "</div>"
      ],
      "text/plain": [
       "      t=0   t=1   t=2   t=3\n",
       "Path                       \n",
       "1     1.0  1.09  1.08  1.34\n",
       "2     1.0  1.16  1.26  1.54\n",
       "3     1.0  1.22  1.07  1.03\n",
       "4     1.0  0.93  0.97  0.92\n",
       "5     1.0  1.11  1.56  1.52\n",
       "6     1.0  0.76  0.77  0.90\n",
       "7     1.0  0.92  0.84  1.01\n",
       "8     1.0  0.88  1.22  1.34"
      ]
     },
     "execution_count": 4,
     "metadata": {},
     "output_type": "execute_result"
    }
   ],
   "source": [
    "# To show the table in more similar format to the Paper, we convert it to Dataframe\n",
    "\n",
    "S = pd.DataFrame(data=price_paths,\n",
    "                index=np.arange(1,8+1), \n",
    "                columns=[\"t=0\",\"t=1\", \"t=2\", \"t=3\"])\n",
    "\n",
    "S.index.name = \"Path\"\n",
    "\n",
    "S"
   ]
  },
  {
   "cell_type": "code",
   "execution_count": 5,
   "metadata": {},
   "outputs": [
    {
     "data": {
      "text/html": [
       "<div>\n",
       "<style scoped>\n",
       "    .dataframe tbody tr th:only-of-type {\n",
       "        vertical-align: middle;\n",
       "    }\n",
       "\n",
       "    .dataframe tbody tr th {\n",
       "        vertical-align: top;\n",
       "    }\n",
       "\n",
       "    .dataframe thead th {\n",
       "        text-align: right;\n",
       "    }\n",
       "</style>\n",
       "<table border=\"1\" class=\"dataframe\">\n",
       "  <thead>\n",
       "    <tr style=\"text-align: right;\">\n",
       "      <th></th>\n",
       "      <th>t=0</th>\n",
       "      <th>t=1</th>\n",
       "      <th>t=2</th>\n",
       "      <th>t=3</th>\n",
       "    </tr>\n",
       "    <tr>\n",
       "      <th>Path</th>\n",
       "      <th></th>\n",
       "      <th></th>\n",
       "      <th></th>\n",
       "      <th></th>\n",
       "    </tr>\n",
       "  </thead>\n",
       "  <tbody>\n",
       "    <tr>\n",
       "      <th>1</th>\n",
       "      <td>0.1</td>\n",
       "      <td>0.01</td>\n",
       "      <td>0.02</td>\n",
       "      <td>0.00</td>\n",
       "    </tr>\n",
       "    <tr>\n",
       "      <th>2</th>\n",
       "      <td>0.1</td>\n",
       "      <td>0.00</td>\n",
       "      <td>0.00</td>\n",
       "      <td>0.00</td>\n",
       "    </tr>\n",
       "    <tr>\n",
       "      <th>3</th>\n",
       "      <td>0.1</td>\n",
       "      <td>0.00</td>\n",
       "      <td>0.03</td>\n",
       "      <td>0.07</td>\n",
       "    </tr>\n",
       "    <tr>\n",
       "      <th>4</th>\n",
       "      <td>0.1</td>\n",
       "      <td>0.17</td>\n",
       "      <td>0.13</td>\n",
       "      <td>0.18</td>\n",
       "    </tr>\n",
       "    <tr>\n",
       "      <th>5</th>\n",
       "      <td>0.1</td>\n",
       "      <td>0.00</td>\n",
       "      <td>0.00</td>\n",
       "      <td>0.00</td>\n",
       "    </tr>\n",
       "    <tr>\n",
       "      <th>6</th>\n",
       "      <td>0.1</td>\n",
       "      <td>0.34</td>\n",
       "      <td>0.33</td>\n",
       "      <td>0.20</td>\n",
       "    </tr>\n",
       "    <tr>\n",
       "      <th>7</th>\n",
       "      <td>0.1</td>\n",
       "      <td>0.18</td>\n",
       "      <td>0.26</td>\n",
       "      <td>0.09</td>\n",
       "    </tr>\n",
       "    <tr>\n",
       "      <th>8</th>\n",
       "      <td>0.1</td>\n",
       "      <td>0.22</td>\n",
       "      <td>0.00</td>\n",
       "      <td>0.00</td>\n",
       "    </tr>\n",
       "  </tbody>\n",
       "</table>\n",
       "</div>"
      ],
      "text/plain": [
       "      t=0   t=1   t=2   t=3\n",
       "Path                       \n",
       "1     0.1  0.01  0.02  0.00\n",
       "2     0.1  0.00  0.00  0.00\n",
       "3     0.1  0.00  0.03  0.07\n",
       "4     0.1  0.17  0.13  0.18\n",
       "5     0.1  0.00  0.00  0.00\n",
       "6     0.1  0.34  0.33  0.20\n",
       "7     0.1  0.18  0.26  0.09\n",
       "8     0.1  0.22  0.00  0.00"
      ]
     },
     "execution_count": 5,
     "metadata": {},
     "output_type": "execute_result"
    }
   ],
   "source": [
    "# Strike Price\n",
    "K = 1.10                                  \n",
    "\n",
    "# immediate reward from exercising the Put option at t\n",
    "exercise_payoff = np.maximum(K - S, 0)             \n",
    "exercise_payoff"
   ]
  },
  {
   "cell_type": "markdown",
   "metadata": {
    "tags": []
   },
   "source": [
    "### Cash- flow matrix at time 3"
   ]
  },
  {
   "cell_type": "markdown",
   "metadata": {},
   "source": [
    "- We are planning to reproduce the following cash flow matrix"
   ]
  },
  {
   "attachments": {
    "47d640c9-aa0c-4d20-8f39-e9395f68367b.png": {
     "image/png": "[encoded data removed]"
    }
   },
   "cell_type": "markdown",
   "metadata": {},
   "source": [
    "![cf_1.png](attachment:47d640c9-aa0c-4d20-8f39-e9395f68367b.png)"
   ]
  },
  {
   "cell_type": "code",
   "execution_count": 6,
   "metadata": {},
   "outputs": [
    {
     "data": {
      "text/html": [
       "<div>\n",
       "<style scoped>\n",
       "    .dataframe tbody tr th:only-of-type {\n",
       "        vertical-align: middle;\n",
       "    }\n",
       "\n",
       "    .dataframe tbody tr th {\n",
       "        vertical-align: top;\n",
       "    }\n",
       "\n",
       "    .dataframe thead th {\n",
       "        text-align: right;\n",
       "    }\n",
       "</style>\n",
       "<table border=\"1\" class=\"dataframe\">\n",
       "  <thead>\n",
       "    <tr style=\"text-align: right;\">\n",
       "      <th></th>\n",
       "      <th>t=0</th>\n",
       "      <th>t=1</th>\n",
       "      <th>t=2</th>\n",
       "      <th>t=3</th>\n",
       "    </tr>\n",
       "    <tr>\n",
       "      <th>Path</th>\n",
       "      <th></th>\n",
       "      <th></th>\n",
       "      <th></th>\n",
       "      <th></th>\n",
       "    </tr>\n",
       "  </thead>\n",
       "  <tbody>\n",
       "    <tr>\n",
       "      <th>1</th>\n",
       "      <td>0.0</td>\n",
       "      <td>0.0</td>\n",
       "      <td>0.0</td>\n",
       "      <td>0.00</td>\n",
       "    </tr>\n",
       "    <tr>\n",
       "      <th>2</th>\n",
       "      <td>0.0</td>\n",
       "      <td>0.0</td>\n",
       "      <td>0.0</td>\n",
       "      <td>0.00</td>\n",
       "    </tr>\n",
       "    <tr>\n",
       "      <th>3</th>\n",
       "      <td>0.0</td>\n",
       "      <td>0.0</td>\n",
       "      <td>0.0</td>\n",
       "      <td>0.07</td>\n",
       "    </tr>\n",
       "    <tr>\n",
       "      <th>4</th>\n",
       "      <td>0.0</td>\n",
       "      <td>0.0</td>\n",
       "      <td>0.0</td>\n",
       "      <td>0.18</td>\n",
       "    </tr>\n",
       "    <tr>\n",
       "      <th>5</th>\n",
       "      <td>0.0</td>\n",
       "      <td>0.0</td>\n",
       "      <td>0.0</td>\n",
       "      <td>0.00</td>\n",
       "    </tr>\n",
       "    <tr>\n",
       "      <th>6</th>\n",
       "      <td>0.0</td>\n",
       "      <td>0.0</td>\n",
       "      <td>0.0</td>\n",
       "      <td>0.20</td>\n",
       "    </tr>\n",
       "    <tr>\n",
       "      <th>7</th>\n",
       "      <td>0.0</td>\n",
       "      <td>0.0</td>\n",
       "      <td>0.0</td>\n",
       "      <td>0.09</td>\n",
       "    </tr>\n",
       "    <tr>\n",
       "      <th>8</th>\n",
       "      <td>0.0</td>\n",
       "      <td>0.0</td>\n",
       "      <td>0.0</td>\n",
       "      <td>0.00</td>\n",
       "    </tr>\n",
       "  </tbody>\n",
       "</table>\n",
       "</div>"
      ],
      "text/plain": [
       "      t=0  t=1  t=2   t=3\n",
       "Path                     \n",
       "1     0.0  0.0  0.0  0.00\n",
       "2     0.0  0.0  0.0  0.00\n",
       "3     0.0  0.0  0.0  0.07\n",
       "4     0.0  0.0  0.0  0.18\n",
       "5     0.0  0.0  0.0  0.00\n",
       "6     0.0  0.0  0.0  0.20\n",
       "7     0.0  0.0  0.0  0.09\n",
       "8     0.0  0.0  0.0  0.00"
      ]
     },
     "execution_count": 6,
     "metadata": {},
     "output_type": "execute_result"
    }
   ],
   "source": [
    "# cf is the short version for Cash-flow matrix\n",
    "\n",
    "cf = exercise_payoff.copy()\n",
    "cf[:] = 0\n",
    "cf.loc[:,\"t=3\"] = exercise_payoff.loc[:, \"t=3\"]\n",
    "cf"
   ]
  },
  {
   "cell_type": "markdown",
   "metadata": {},
   "source": [
    "### Regression at Time t=2"
   ]
  },
  {
   "cell_type": "code",
   "execution_count": 7,
   "metadata": {},
   "outputs": [],
   "source": [
    "# dicount factor based on 6% riskless rate\n",
    "df = np.exp(-0.06 * 1)          \n",
    "\n",
    "# This is a table for all the path\n",
    "table_t_2 = pd.DataFrame({\"Y\":cf[\"t=3\"]*df, \"X\":S[\"t=2\"]})   \n"
   ]
  },
  {
   "cell_type": "markdown",
   "metadata": {},
   "source": [
    "- We need the in-money paths: In the Money Paths:"
   ]
  },
  {
   "cell_type": "code",
   "execution_count": 8,
   "metadata": {},
   "outputs": [
    {
     "data": {
      "text/html": [
       "<div>\n",
       "<style scoped>\n",
       "    .dataframe tbody tr th:only-of-type {\n",
       "        vertical-align: middle;\n",
       "    }\n",
       "\n",
       "    .dataframe tbody tr th {\n",
       "        vertical-align: top;\n",
       "    }\n",
       "\n",
       "    .dataframe thead th {\n",
       "        text-align: right;\n",
       "    }\n",
       "</style>\n",
       "<table border=\"1\" class=\"dataframe\">\n",
       "  <thead>\n",
       "    <tr style=\"text-align: right;\">\n",
       "      <th></th>\n",
       "      <th>Y</th>\n",
       "      <th>X</th>\n",
       "    </tr>\n",
       "    <tr>\n",
       "      <th>Path</th>\n",
       "      <th></th>\n",
       "      <th></th>\n",
       "    </tr>\n",
       "  </thead>\n",
       "  <tbody>\n",
       "    <tr>\n",
       "      <th>1</th>\n",
       "      <td>0.000000</td>\n",
       "      <td>1.08</td>\n",
       "    </tr>\n",
       "    <tr>\n",
       "      <th>3</th>\n",
       "      <td>0.065924</td>\n",
       "      <td>1.07</td>\n",
       "    </tr>\n",
       "    <tr>\n",
       "      <th>4</th>\n",
       "      <td>0.169518</td>\n",
       "      <td>0.97</td>\n",
       "    </tr>\n",
       "    <tr>\n",
       "      <th>6</th>\n",
       "      <td>0.188353</td>\n",
       "      <td>0.77</td>\n",
       "    </tr>\n",
       "    <tr>\n",
       "      <th>7</th>\n",
       "      <td>0.084759</td>\n",
       "      <td>0.84</td>\n",
       "    </tr>\n",
       "  </tbody>\n",
       "</table>\n",
       "</div>"
      ],
      "text/plain": [
       "             Y     X\n",
       "Path                \n",
       "1     0.000000  1.08\n",
       "3     0.065924  1.07\n",
       "4     0.169518  0.97\n",
       "6     0.188353  0.77\n",
       "7     0.084759  0.84"
      ]
     },
     "execution_count": 8,
     "metadata": {},
     "output_type": "execute_result"
    }
   ],
   "source": [
    "id_money_t_2 = S[S.iloc[:, 2] < K].index\n",
    "table_t_2_inmoney=table_t_2.loc[id_money_t_2]\n",
    "table_t_2_inmoney"
   ]
  },
  {
   "cell_type": "markdown",
   "metadata": {},
   "source": [
    "- Regression of the X and Y at time 2 "
   ]
  },
  {
   "cell_type": "code",
   "execution_count": 9,
   "metadata": {},
   "outputs": [
    {
     "name": "stdout",
     "output_type": "stream",
     "text": [
      "The Conditional Expectaion function is -1.070 + 2.983X -1.814X^2\n"
     ]
    }
   ],
   "source": [
    "rg_t_2 = np.polyfit(table_t_2_inmoney[\"X\"], table_t_2_inmoney[\"Y\"], 2)\n",
    "\n",
    "print(\"The Conditional Expectaion function is %.3f + %.3fX %.3fX^2\" % \n",
    "                                (rg_t_2[2], rg_t_2[1], rg_t_2[0]))"
   ]
  },
  {
   "cell_type": "markdown",
   "metadata": {},
   "source": [
    "### Optimal early exercise decision at time 2"
   ]
  },
  {
   "cell_type": "code",
   "execution_count": 10,
   "metadata": {},
   "outputs": [
    {
     "data": {
      "text/html": [
       "<div>\n",
       "<style scoped>\n",
       "    .dataframe tbody tr th:only-of-type {\n",
       "        vertical-align: middle;\n",
       "    }\n",
       "\n",
       "    .dataframe tbody tr th {\n",
       "        vertical-align: top;\n",
       "    }\n",
       "\n",
       "    .dataframe thead th {\n",
       "        text-align: right;\n",
       "    }\n",
       "</style>\n",
       "<table border=\"1\" class=\"dataframe\">\n",
       "  <thead>\n",
       "    <tr style=\"text-align: right;\">\n",
       "      <th></th>\n",
       "      <th>Exercise</th>\n",
       "      <th>Continution</th>\n",
       "    </tr>\n",
       "    <tr>\n",
       "      <th>Path</th>\n",
       "      <th></th>\n",
       "      <th></th>\n",
       "    </tr>\n",
       "  </thead>\n",
       "  <tbody>\n",
       "    <tr>\n",
       "      <th>1</th>\n",
       "      <td>0.02</td>\n",
       "      <td>0.0367</td>\n",
       "    </tr>\n",
       "    <tr>\n",
       "      <th>3</th>\n",
       "      <td>0.03</td>\n",
       "      <td>0.0459</td>\n",
       "    </tr>\n",
       "    <tr>\n",
       "      <th>4</th>\n",
       "      <td>0.13</td>\n",
       "      <td>0.1175</td>\n",
       "    </tr>\n",
       "    <tr>\n",
       "      <th>6</th>\n",
       "      <td>0.33</td>\n",
       "      <td>0.1520</td>\n",
       "    </tr>\n",
       "    <tr>\n",
       "      <th>7</th>\n",
       "      <td>0.26</td>\n",
       "      <td>0.1564</td>\n",
       "    </tr>\n",
       "  </tbody>\n",
       "</table>\n",
       "</div>"
      ],
      "text/plain": [
       "      Exercise  Continution\n",
       "Path                       \n",
       "1         0.02       0.0367\n",
       "3         0.03       0.0459\n",
       "4         0.13       0.1175\n",
       "6         0.33       0.1520\n",
       "7         0.26       0.1564"
      ]
     },
     "execution_count": 10,
     "metadata": {},
     "output_type": "execute_result"
    }
   ],
   "source": [
    "# Here we use our regression model to predict continutaion value at time t=2 (c_t_2)\n",
    "C_t_2 = np.polyval(rg_t_2, S.loc[id_money_t_2,\"t=2\"])\n",
    "\n",
    "# The Exercise payoff is \"K- S.loc[id_money_t_2, \"t=2\"]\" while Continutaion C_2_t\n",
    "Opt_dec_org = pd.DataFrame(data={\"Exercise\":exercise_payoff.loc[id_money_t_2, \"t=2\"],\n",
    "                            \"Continution\":C_t_2})\n",
    "\n",
    "Opt_dec = Opt_dec_org.round(4) \n",
    "Opt_dec\n"
   ]
  },
  {
   "cell_type": "markdown",
   "metadata": {},
   "source": [
    "### Cash flow matrix at time=2 "
   ]
  },
  {
   "cell_type": "markdown",
   "metadata": {},
   "source": [
    "- We are planning to reproduce the following cash flow matrix:"
   ]
  },
  {
   "attachments": {
    "de59288d-e505-4db6-9794-3fcb2e0ea8d5.png": {
     "image/png": "[encoded data removed]"
    }
   },
   "cell_type": "markdown",
   "metadata": {},
   "source": [
    "![cf_2.png](attachment:de59288d-e505-4db6-9794-3fcb2e0ea8d5.png)"
   ]
  },
  {
   "cell_type": "code",
   "execution_count": 11,
   "metadata": {},
   "outputs": [
    {
     "data": {
      "text/html": [
       "<div>\n",
       "<style scoped>\n",
       "    .dataframe tbody tr th:only-of-type {\n",
       "        vertical-align: middle;\n",
       "    }\n",
       "\n",
       "    .dataframe tbody tr th {\n",
       "        vertical-align: top;\n",
       "    }\n",
       "\n",
       "    .dataframe thead th {\n",
       "        text-align: right;\n",
       "    }\n",
       "</style>\n",
       "<table border=\"1\" class=\"dataframe\">\n",
       "  <thead>\n",
       "    <tr style=\"text-align: right;\">\n",
       "      <th></th>\n",
       "      <th>t=0</th>\n",
       "      <th>t=1</th>\n",
       "      <th>t=2</th>\n",
       "      <th>t=3</th>\n",
       "    </tr>\n",
       "    <tr>\n",
       "      <th>Path</th>\n",
       "      <th></th>\n",
       "      <th></th>\n",
       "      <th></th>\n",
       "      <th></th>\n",
       "    </tr>\n",
       "  </thead>\n",
       "  <tbody>\n",
       "    <tr>\n",
       "      <th>1</th>\n",
       "      <td>0.0</td>\n",
       "      <td>0.0</td>\n",
       "      <td>0.00</td>\n",
       "      <td>0.00</td>\n",
       "    </tr>\n",
       "    <tr>\n",
       "      <th>2</th>\n",
       "      <td>0.0</td>\n",
       "      <td>0.0</td>\n",
       "      <td>0.00</td>\n",
       "      <td>0.00</td>\n",
       "    </tr>\n",
       "    <tr>\n",
       "      <th>3</th>\n",
       "      <td>0.0</td>\n",
       "      <td>0.0</td>\n",
       "      <td>0.00</td>\n",
       "      <td>0.07</td>\n",
       "    </tr>\n",
       "    <tr>\n",
       "      <th>4</th>\n",
       "      <td>0.0</td>\n",
       "      <td>0.0</td>\n",
       "      <td>0.13</td>\n",
       "      <td>0.00</td>\n",
       "    </tr>\n",
       "    <tr>\n",
       "      <th>5</th>\n",
       "      <td>0.0</td>\n",
       "      <td>0.0</td>\n",
       "      <td>0.00</td>\n",
       "      <td>0.00</td>\n",
       "    </tr>\n",
       "    <tr>\n",
       "      <th>6</th>\n",
       "      <td>0.0</td>\n",
       "      <td>0.0</td>\n",
       "      <td>0.33</td>\n",
       "      <td>0.00</td>\n",
       "    </tr>\n",
       "    <tr>\n",
       "      <th>7</th>\n",
       "      <td>0.0</td>\n",
       "      <td>0.0</td>\n",
       "      <td>0.26</td>\n",
       "      <td>0.00</td>\n",
       "    </tr>\n",
       "    <tr>\n",
       "      <th>8</th>\n",
       "      <td>0.0</td>\n",
       "      <td>0.0</td>\n",
       "      <td>0.00</td>\n",
       "      <td>0.00</td>\n",
       "    </tr>\n",
       "  </tbody>\n",
       "</table>\n",
       "</div>"
      ],
      "text/plain": [
       "      t=0  t=1   t=2   t=3\n",
       "Path                      \n",
       "1     0.0  0.0  0.00  0.00\n",
       "2     0.0  0.0  0.00  0.00\n",
       "3     0.0  0.0  0.00  0.07\n",
       "4     0.0  0.0  0.13  0.00\n",
       "5     0.0  0.0  0.00  0.00\n",
       "6     0.0  0.0  0.33  0.00\n",
       "7     0.0  0.0  0.26  0.00\n",
       "8     0.0  0.0  0.00  0.00"
      ]
     },
     "execution_count": 11,
     "metadata": {},
     "output_type": "execute_result"
    }
   ],
   "source": [
    "# Here is the decision point, if continuation if bigger than exercise payoff, we exercise, \n",
    "# otherwise continue\n",
    "cf.loc[id_money_t_2,\"t=2\"] = np.where(exercise_payoff.loc[id_money_t_2,\"t=2\"] > C_t_2, \n",
    "    exercise_payoff.loc[id_money_t_2,\"t=2\"], 0)\n",
    "\n",
    "# When at any time t>>t+1, we execise, cashflow in rest of steps is equal to zero\n",
    "cf.loc[id_money_t_2,\"t=3\"] = np.where(cf.loc[id_money_t_2,\"t=2\"] > 0, \n",
    "    0, cf.loc[id_money_t_2,\"t=3\"])\n",
    "cf"
   ]
  },
  {
   "cell_type": "markdown",
   "metadata": {},
   "source": [
    "### Regression at Time t=1"
   ]
  },
  {
   "cell_type": "code",
   "execution_count": 12,
   "metadata": {},
   "outputs": [
    {
     "data": {
      "text/html": [
       "<div>\n",
       "<style scoped>\n",
       "    .dataframe tbody tr th:only-of-type {\n",
       "        vertical-align: middle;\n",
       "    }\n",
       "\n",
       "    .dataframe tbody tr th {\n",
       "        vertical-align: top;\n",
       "    }\n",
       "\n",
       "    .dataframe thead th {\n",
       "        text-align: right;\n",
       "    }\n",
       "</style>\n",
       "<table border=\"1\" class=\"dataframe\">\n",
       "  <thead>\n",
       "    <tr style=\"text-align: right;\">\n",
       "      <th></th>\n",
       "      <th>Y</th>\n",
       "      <th>X</th>\n",
       "    </tr>\n",
       "    <tr>\n",
       "      <th>Path</th>\n",
       "      <th></th>\n",
       "      <th></th>\n",
       "    </tr>\n",
       "  </thead>\n",
       "  <tbody>\n",
       "    <tr>\n",
       "      <th>1</th>\n",
       "      <td>0.000000</td>\n",
       "      <td>1.09</td>\n",
       "    </tr>\n",
       "    <tr>\n",
       "      <th>4</th>\n",
       "      <td>0.122429</td>\n",
       "      <td>0.93</td>\n",
       "    </tr>\n",
       "    <tr>\n",
       "      <th>6</th>\n",
       "      <td>0.310782</td>\n",
       "      <td>0.76</td>\n",
       "    </tr>\n",
       "    <tr>\n",
       "      <th>7</th>\n",
       "      <td>0.244859</td>\n",
       "      <td>0.92</td>\n",
       "    </tr>\n",
       "    <tr>\n",
       "      <th>8</th>\n",
       "      <td>0.000000</td>\n",
       "      <td>0.88</td>\n",
       "    </tr>\n",
       "  </tbody>\n",
       "</table>\n",
       "</div>"
      ],
      "text/plain": [
       "             Y     X\n",
       "Path                \n",
       "1     0.000000  1.09\n",
       "4     0.122429  0.93\n",
       "6     0.310782  0.76\n",
       "7     0.244859  0.92\n",
       "8     0.000000  0.88"
      ]
     },
     "execution_count": 12,
     "metadata": {},
     "output_type": "execute_result"
    }
   ],
   "source": [
    "table_t_1 = pd.DataFrame({\"Y\":cf[\"t=2\"]*df, \"X\":S[\"t=1\"]})   # This is a table for all the path\n",
    "id_money_t_1 = S[S.iloc[:, 1] < K].index\n",
    "table_t_1_inmoney=table_t_1.loc[id_money_t_1]\n",
    "table_t_1_inmoney"
   ]
  },
  {
   "cell_type": "code",
   "execution_count": 13,
   "metadata": {},
   "outputs": [
    {
     "name": "stdout",
     "output_type": "stream",
     "text": [
      "The Conditional Expectaion function is 2.038  -3.335X 1.356X^2\n"
     ]
    }
   ],
   "source": [
    "rg_t_1 = np.polyfit(table_t_1_inmoney[\"X\"], table_t_1_inmoney[\"Y\"], 2)\n",
    "\n",
    "print(\"The Conditional Expectaion function is %.3f  %.3fX %.3fX^2\" % \n",
    "                                (rg_t_1[2], rg_t_1[1], rg_t_1[0]))"
   ]
  },
  {
   "cell_type": "code",
   "execution_count": 14,
   "metadata": {},
   "outputs": [
    {
     "data": {
      "text/html": [
       "<div>\n",
       "<style scoped>\n",
       "    .dataframe tbody tr th:only-of-type {\n",
       "        vertical-align: middle;\n",
       "    }\n",
       "\n",
       "    .dataframe tbody tr th {\n",
       "        vertical-align: top;\n",
       "    }\n",
       "\n",
       "    .dataframe thead th {\n",
       "        text-align: right;\n",
       "    }\n",
       "</style>\n",
       "<table border=\"1\" class=\"dataframe\">\n",
       "  <thead>\n",
       "    <tr style=\"text-align: right;\">\n",
       "      <th></th>\n",
       "      <th>Exercise</th>\n",
       "      <th>Continution</th>\n",
       "    </tr>\n",
       "    <tr>\n",
       "      <th>Path</th>\n",
       "      <th></th>\n",
       "      <th></th>\n",
       "    </tr>\n",
       "  </thead>\n",
       "  <tbody>\n",
       "    <tr>\n",
       "      <th>1</th>\n",
       "      <td>0.01</td>\n",
       "      <td>0.0139</td>\n",
       "    </tr>\n",
       "    <tr>\n",
       "      <th>4</th>\n",
       "      <td>0.17</td>\n",
       "      <td>0.1093</td>\n",
       "    </tr>\n",
       "    <tr>\n",
       "      <th>6</th>\n",
       "      <td>0.34</td>\n",
       "      <td>0.2866</td>\n",
       "    </tr>\n",
       "    <tr>\n",
       "      <th>7</th>\n",
       "      <td>0.18</td>\n",
       "      <td>0.1175</td>\n",
       "    </tr>\n",
       "    <tr>\n",
       "      <th>8</th>\n",
       "      <td>0.22</td>\n",
       "      <td>0.1533</td>\n",
       "    </tr>\n",
       "  </tbody>\n",
       "</table>\n",
       "</div>"
      ],
      "text/plain": [
       "      Exercise  Continution\n",
       "Path                       \n",
       "1         0.01       0.0139\n",
       "4         0.17       0.1093\n",
       "6         0.34       0.2866\n",
       "7         0.18       0.1175\n",
       "8         0.22       0.1533"
      ]
     },
     "execution_count": 14,
     "metadata": {},
     "output_type": "execute_result"
    }
   ],
   "source": [
    "C_t_1 = np.polyval(rg_t_1.round(3), S.loc[id_money_t_1].iloc[:,1])\n",
    "\n",
    "Opt_dec_org_t_1 = pd.DataFrame(data={\"Exercise\":exercise_payoff.loc[id_money_t_1, \"t=1\"],\n",
    "                            \"Continution\":C_t_1})\n",
    "Opt_dec_t_1 = Opt_dec_org_t_1.round(4) \n",
    "Opt_dec_t_1"
   ]
  },
  {
   "cell_type": "markdown",
   "metadata": {},
   "source": [
    "### Cash flow matrix at time=1 "
   ]
  },
  {
   "cell_type": "markdown",
   "metadata": {},
   "source": [
    "- We are planning to reproduce the following cash flow matrix:"
   ]
  },
  {
   "attachments": {
    "3aa705f3-c026-4c36-a73a-64aef4300ce8.png": {
     "image/png": "[encoded data removed]"
    }
   },
   "cell_type": "markdown",
   "metadata": {},
   "source": [
    "![cf_3.png](attachment:3aa705f3-c026-4c36-a73a-64aef4300ce8.png)"
   ]
  },
  {
   "cell_type": "code",
   "execution_count": 15,
   "metadata": {},
   "outputs": [
    {
     "data": {
      "text/html": [
       "<div>\n",
       "<style scoped>\n",
       "    .dataframe tbody tr th:only-of-type {\n",
       "        vertical-align: middle;\n",
       "    }\n",
       "\n",
       "    .dataframe tbody tr th {\n",
       "        vertical-align: top;\n",
       "    }\n",
       "\n",
       "    .dataframe thead th {\n",
       "        text-align: right;\n",
       "    }\n",
       "</style>\n",
       "<table border=\"1\" class=\"dataframe\">\n",
       "  <thead>\n",
       "    <tr style=\"text-align: right;\">\n",
       "      <th></th>\n",
       "      <th>t=0</th>\n",
       "      <th>t=1</th>\n",
       "      <th>t=2</th>\n",
       "      <th>t=3</th>\n",
       "    </tr>\n",
       "    <tr>\n",
       "      <th>Path</th>\n",
       "      <th></th>\n",
       "      <th></th>\n",
       "      <th></th>\n",
       "      <th></th>\n",
       "    </tr>\n",
       "  </thead>\n",
       "  <tbody>\n",
       "    <tr>\n",
       "      <th>1</th>\n",
       "      <td>0.0</td>\n",
       "      <td>0.00</td>\n",
       "      <td>0.0</td>\n",
       "      <td>0.00</td>\n",
       "    </tr>\n",
       "    <tr>\n",
       "      <th>2</th>\n",
       "      <td>0.0</td>\n",
       "      <td>0.00</td>\n",
       "      <td>0.0</td>\n",
       "      <td>0.00</td>\n",
       "    </tr>\n",
       "    <tr>\n",
       "      <th>3</th>\n",
       "      <td>0.0</td>\n",
       "      <td>0.00</td>\n",
       "      <td>0.0</td>\n",
       "      <td>0.07</td>\n",
       "    </tr>\n",
       "    <tr>\n",
       "      <th>4</th>\n",
       "      <td>0.0</td>\n",
       "      <td>0.17</td>\n",
       "      <td>0.0</td>\n",
       "      <td>0.00</td>\n",
       "    </tr>\n",
       "    <tr>\n",
       "      <th>5</th>\n",
       "      <td>0.0</td>\n",
       "      <td>0.00</td>\n",
       "      <td>0.0</td>\n",
       "      <td>0.00</td>\n",
       "    </tr>\n",
       "    <tr>\n",
       "      <th>6</th>\n",
       "      <td>0.0</td>\n",
       "      <td>0.34</td>\n",
       "      <td>0.0</td>\n",
       "      <td>0.00</td>\n",
       "    </tr>\n",
       "    <tr>\n",
       "      <th>7</th>\n",
       "      <td>0.0</td>\n",
       "      <td>0.18</td>\n",
       "      <td>0.0</td>\n",
       "      <td>0.00</td>\n",
       "    </tr>\n",
       "    <tr>\n",
       "      <th>8</th>\n",
       "      <td>0.0</td>\n",
       "      <td>0.22</td>\n",
       "      <td>0.0</td>\n",
       "      <td>0.00</td>\n",
       "    </tr>\n",
       "  </tbody>\n",
       "</table>\n",
       "</div>"
      ],
      "text/plain": [
       "      t=0   t=1  t=2   t=3\n",
       "Path                      \n",
       "1     0.0  0.00  0.0  0.00\n",
       "2     0.0  0.00  0.0  0.00\n",
       "3     0.0  0.00  0.0  0.07\n",
       "4     0.0  0.17  0.0  0.00\n",
       "5     0.0  0.00  0.0  0.00\n",
       "6     0.0  0.34  0.0  0.00\n",
       "7     0.0  0.18  0.0  0.00\n",
       "8     0.0  0.22  0.0  0.00"
      ]
     },
     "execution_count": 15,
     "metadata": {},
     "output_type": "execute_result"
    }
   ],
   "source": [
    "cf.loc[id_money_t_1,\"t=1\"] = np.where(exercise_payoff.loc[id_money_t_1,\"t=1\"] > C_t_1, \n",
    "    exercise_payoff.loc[id_money_t_1,\"t=1\"], 0)\n",
    "    \n",
    "cf.loc[id_money_t_2,\"t=2\"] = np.where(cf.loc[id_money_t_1,\"t=1\"] > 0, \n",
    "    0, cf.loc[id_money_t_1,\"t=2\"])\n",
    "cf"
   ]
  },
  {
   "cell_type": "markdown",
   "metadata": {},
   "source": [
    "- Dicount the time and average of all the paths to arrive value of option at time=0 "
   ]
  },
  {
   "cell_type": "code",
   "execution_count": 16,
   "metadata": {},
   "outputs": [
    {
     "name": "stdout",
     "output_type": "stream",
     "text": [
      "The value of American Put Option is: 0.1144\n"
     ]
    }
   ],
   "source": [
    "DCF_all_paths = cf[\"t=1\"]*df + cf[\"t=2\"]*df**2 + cf[\"t=3\"]*df**3\n",
    "\n",
    "Option_Value = sum(DCF_all_paths)/8\n",
    "\n",
    "print(\"The value of American Put Option is: %.4f\" % (Option_Value))"
   ]
  },
  {
   "cell_type": "markdown",
   "metadata": {},
   "source": [
    "## Main Big loop:"
   ]
  },
  {
   "cell_type": "code",
   "execution_count": 17,
   "metadata": {},
   "outputs": [],
   "source": [
    "def Val_Ame_Put_Opt(S, K, Nsteps, paths, r, T):\n",
    "\n",
    "    dt = T/Nsteps\n",
    "    df = np.exp(-r * dt)   \n",
    "    \n",
    "    exercise_payoff = np.maximum(K - S, 0)             \n",
    "    \n",
    "    cf = exercise_payoff.copy()\n",
    "    cf[:] = 0\n",
    "    cf.iloc[:,Nsteps] = exercise_payoff.iloc[:, Nsteps]\n",
    "    \n",
    "\n",
    "    for t in range(Nsteps-1,0,-1):\n",
    "\n",
    "        table_t = pd.DataFrame({\"Y\":cf.iloc[:,t+1]*df, \"X\":S.iloc[:,t]})\n",
    "        id_money_t = S[S.iloc[:, t] < K].index\n",
    "        \n",
    "        table_t_inmoney=table_t.loc[id_money_t]\n",
    "\n",
    "    \n",
    "        rg_t = np.polyfit(table_t_inmoney[\"X\"], table_t_inmoney[\"Y\"], 2)\n",
    "   \n",
    "        C_t = np.polyval(rg_t, S.loc[id_money_t].iloc[:,t])\n",
    "    \n",
    "\n",
    "        cf.loc[id_money_t,t] = np.where(exercise_payoff.loc[id_money_t,t] > C_t, \n",
    "            exercise_payoff.loc[id_money_t,t], 0)\n",
    "\n",
    "        for tt in range(t, Nsteps):\n",
    "            \n",
    "            cf.loc[id_money_t,tt+1] = np.where(cf.loc[id_money_t,t] > 0, \n",
    "                0, cf.loc[id_money_t,tt+1])\n",
    "\n",
    "    Sum_DCF = 0\n",
    "\n",
    "    for t in range(Nsteps,0,-1):\n",
    "    \n",
    "        Sum_DCF = sum(cf.loc[:,t])*np.exp(-dt*r*t) + Sum_DCF\n",
    "\n",
    "    Option_Value = Sum_DCF/paths\n",
    "\n",
    "    # return both cashflow and the price of the option\n",
    "    return cf, Option_Value\n",
    "\n",
    "    "
   ]
  },
  {
   "cell_type": "markdown",
   "metadata": {},
   "source": [
    "### Applying the the above function to the Example"
   ]
  },
  {
   "cell_type": "code",
   "execution_count": 18,
   "metadata": {},
   "outputs": [],
   "source": [
    "S_Example = pd.DataFrame(data=price_paths,\n",
    "                index=np.arange(1,8+1))"
   ]
  },
  {
   "cell_type": "code",
   "execution_count": 19,
   "metadata": {},
   "outputs": [
    {
     "data": {
      "text/html": [
       "<div>\n",
       "<style scoped>\n",
       "    .dataframe tbody tr th:only-of-type {\n",
       "        vertical-align: middle;\n",
       "    }\n",
       "\n",
       "    .dataframe tbody tr th {\n",
       "        vertical-align: top;\n",
       "    }\n",
       "\n",
       "    .dataframe thead th {\n",
       "        text-align: right;\n",
       "    }\n",
       "</style>\n",
       "<table border=\"1\" class=\"dataframe\">\n",
       "  <thead>\n",
       "    <tr style=\"text-align: right;\">\n",
       "      <th></th>\n",
       "      <th>0</th>\n",
       "      <th>1</th>\n",
       "      <th>2</th>\n",
       "      <th>3</th>\n",
       "    </tr>\n",
       "  </thead>\n",
       "  <tbody>\n",
       "    <tr>\n",
       "      <th>1</th>\n",
       "      <td>1.0</td>\n",
       "      <td>1.09</td>\n",
       "      <td>1.08</td>\n",
       "      <td>1.34</td>\n",
       "    </tr>\n",
       "    <tr>\n",
       "      <th>2</th>\n",
       "      <td>1.0</td>\n",
       "      <td>1.16</td>\n",
       "      <td>1.26</td>\n",
       "      <td>1.54</td>\n",
       "    </tr>\n",
       "    <tr>\n",
       "      <th>3</th>\n",
       "      <td>1.0</td>\n",
       "      <td>1.22</td>\n",
       "      <td>1.07</td>\n",
       "      <td>1.03</td>\n",
       "    </tr>\n",
       "    <tr>\n",
       "      <th>4</th>\n",
       "      <td>1.0</td>\n",
       "      <td>0.93</td>\n",
       "      <td>0.97</td>\n",
       "      <td>0.92</td>\n",
       "    </tr>\n",
       "    <tr>\n",
       "      <th>5</th>\n",
       "      <td>1.0</td>\n",
       "      <td>1.11</td>\n",
       "      <td>1.56</td>\n",
       "      <td>1.52</td>\n",
       "    </tr>\n",
       "    <tr>\n",
       "      <th>6</th>\n",
       "      <td>1.0</td>\n",
       "      <td>0.76</td>\n",
       "      <td>0.77</td>\n",
       "      <td>0.90</td>\n",
       "    </tr>\n",
       "    <tr>\n",
       "      <th>7</th>\n",
       "      <td>1.0</td>\n",
       "      <td>0.92</td>\n",
       "      <td>0.84</td>\n",
       "      <td>1.01</td>\n",
       "    </tr>\n",
       "    <tr>\n",
       "      <th>8</th>\n",
       "      <td>1.0</td>\n",
       "      <td>0.88</td>\n",
       "      <td>1.22</td>\n",
       "      <td>1.34</td>\n",
       "    </tr>\n",
       "  </tbody>\n",
       "</table>\n",
       "</div>"
      ],
      "text/plain": [
       "     0     1     2     3\n",
       "1  1.0  1.09  1.08  1.34\n",
       "2  1.0  1.16  1.26  1.54\n",
       "3  1.0  1.22  1.07  1.03\n",
       "4  1.0  0.93  0.97  0.92\n",
       "5  1.0  1.11  1.56  1.52\n",
       "6  1.0  0.76  0.77  0.90\n",
       "7  1.0  0.92  0.84  1.01\n",
       "8  1.0  0.88  1.22  1.34"
      ]
     },
     "execution_count": 19,
     "metadata": {},
     "output_type": "execute_result"
    }
   ],
   "source": [
    "S_Example"
   ]
  },
  {
   "cell_type": "code",
   "execution_count": 20,
   "metadata": {},
   "outputs": [],
   "source": [
    "# Price Paths\n",
    "S = S_Example\n",
    "\n",
    "# Strike Price\n",
    "K_val = 1.1\n",
    "\n",
    "# Number of exercise times until end of horiozon\n",
    "Nsteps_val = 3\n",
    "\n",
    "# Number of path\n",
    "paths_val = 8\n",
    "\n",
    "# Riskless Free rate\n",
    "r_val = 0.06\n",
    "\n",
    "# End of the Horizon\n",
    "T_val = 3"
   ]
  },
  {
   "cell_type": "code",
   "execution_count": 21,
   "metadata": {},
   "outputs": [],
   "source": [
    "CF_example,Value_Example = Val_Ame_Put_Opt(S=S_Example, K=K_val,Nsteps=Nsteps_val, \n",
    "                                           paths=paths_val, r=r_val, T=T_val)"
   ]
  },
  {
   "cell_type": "code",
   "execution_count": 22,
   "metadata": {},
   "outputs": [
    {
     "name": "stdout",
     "output_type": "stream",
     "text": [
      "The Cash Flow matrix resulting from LSM method\n"
     ]
    },
    {
     "data": {
      "text/html": [
       "<div>\n",
       "<style scoped>\n",
       "    .dataframe tbody tr th:only-of-type {\n",
       "        vertical-align: middle;\n",
       "    }\n",
       "\n",
       "    .dataframe tbody tr th {\n",
       "        vertical-align: top;\n",
       "    }\n",
       "\n",
       "    .dataframe thead th {\n",
       "        text-align: right;\n",
       "    }\n",
       "</style>\n",
       "<table border=\"1\" class=\"dataframe\">\n",
       "  <thead>\n",
       "    <tr style=\"text-align: right;\">\n",
       "      <th></th>\n",
       "      <th>0</th>\n",
       "      <th>1</th>\n",
       "      <th>2</th>\n",
       "      <th>3</th>\n",
       "    </tr>\n",
       "  </thead>\n",
       "  <tbody>\n",
       "    <tr>\n",
       "      <th>1</th>\n",
       "      <td>0.0</td>\n",
       "      <td>0.00</td>\n",
       "      <td>0.0</td>\n",
       "      <td>0.00</td>\n",
       "    </tr>\n",
       "    <tr>\n",
       "      <th>2</th>\n",
       "      <td>0.0</td>\n",
       "      <td>0.00</td>\n",
       "      <td>0.0</td>\n",
       "      <td>0.00</td>\n",
       "    </tr>\n",
       "    <tr>\n",
       "      <th>3</th>\n",
       "      <td>0.0</td>\n",
       "      <td>0.00</td>\n",
       "      <td>0.0</td>\n",
       "      <td>0.07</td>\n",
       "    </tr>\n",
       "    <tr>\n",
       "      <th>4</th>\n",
       "      <td>0.0</td>\n",
       "      <td>0.17</td>\n",
       "      <td>0.0</td>\n",
       "      <td>0.00</td>\n",
       "    </tr>\n",
       "    <tr>\n",
       "      <th>5</th>\n",
       "      <td>0.0</td>\n",
       "      <td>0.00</td>\n",
       "      <td>0.0</td>\n",
       "      <td>0.00</td>\n",
       "    </tr>\n",
       "    <tr>\n",
       "      <th>6</th>\n",
       "      <td>0.0</td>\n",
       "      <td>0.34</td>\n",
       "      <td>0.0</td>\n",
       "      <td>0.00</td>\n",
       "    </tr>\n",
       "    <tr>\n",
       "      <th>7</th>\n",
       "      <td>0.0</td>\n",
       "      <td>0.18</td>\n",
       "      <td>0.0</td>\n",
       "      <td>0.00</td>\n",
       "    </tr>\n",
       "    <tr>\n",
       "      <th>8</th>\n",
       "      <td>0.0</td>\n",
       "      <td>0.22</td>\n",
       "      <td>0.0</td>\n",
       "      <td>0.00</td>\n",
       "    </tr>\n",
       "  </tbody>\n",
       "</table>\n",
       "</div>"
      ],
      "text/plain": [
       "     0     1    2     3\n",
       "1  0.0  0.00  0.0  0.00\n",
       "2  0.0  0.00  0.0  0.00\n",
       "3  0.0  0.00  0.0  0.07\n",
       "4  0.0  0.17  0.0  0.00\n",
       "5  0.0  0.00  0.0  0.00\n",
       "6  0.0  0.34  0.0  0.00\n",
       "7  0.0  0.18  0.0  0.00\n",
       "8  0.0  0.22  0.0  0.00"
      ]
     },
     "execution_count": 22,
     "metadata": {},
     "output_type": "execute_result"
    }
   ],
   "source": [
    "print(\"The Cash Flow matrix resulting from LSM method\")\n",
    "CF_example"
   ]
  },
  {
   "cell_type": "code",
   "execution_count": 23,
   "metadata": {},
   "outputs": [
    {
     "name": "stdout",
     "output_type": "stream",
     "text": [
      "The Value of American Put Option is:  0.1144\n"
     ]
    }
   ],
   "source": [
    "print(\"The Value of American Put Option is:  %.4f\" % Value_Example)"
   ]
  },
  {
   "cell_type": "markdown",
   "metadata": {},
   "source": [
    "### Geometric Brownian Motion Price Model"
   ]
  },
  {
   "cell_type": "code",
   "execution_count": 24,
   "metadata": {},
   "outputs": [],
   "source": [
    "def SimulateGBM(S0, r, vol, T, paths, Nsteps, reduce_variance = True):\n",
    "    \n",
    "    Nsteps = int(Nsteps)\n",
    "    dt = T/Nsteps\n",
    "    \n",
    "    Z = np.random.normal(0, 1, paths//2 * Nsteps).reshape((paths//2, Nsteps))\n",
    "    \n",
    "    if reduce_variance:\n",
    "      Z_inv = -Z\n",
    "    else:\n",
    "      Z_inv = np.random.normal(0, 1, paths//2 * Nsteps).reshape((paths//2, Nsteps))\n",
    "    \n",
    "    dWt = np.sqrt(dt) * Z\n",
    "    dWt_inv = np.sqrt(dt) * Z_inv\n",
    "    dWt = np.concatenate((dWt, dWt_inv), axis=0)\n",
    "    \n",
    "    St = np.zeros((paths, Nsteps + 1))\n",
    "    St[:, 0] = S0\n",
    "    \n",
    "    for i in range (1, Nsteps + 1):\n",
    "        St[:, i] = St[:, i - 1]*np.exp((r - 1/2*np.power(vol, 2))*dt + vol*dWt[:, i - 1])\n",
    "    \n",
    "    St = pd.DataFrame(data=St,\n",
    "                index=np.arange(1,paths+1))\n",
    "    \n",
    "    return St\n"
   ]
  },
  {
   "cell_type": "code",
   "execution_count": 25,
   "metadata": {},
   "outputs": [],
   "source": [
    "S0_val = 36\n",
    "r_val = 0.06\n",
    "vol_val = 0.2\n",
    "T_val = 1\n",
    "paths_val = 1000\n",
    "Nsteps_val = 50"
   ]
  },
  {
   "cell_type": "code",
   "execution_count": 26,
   "metadata": {},
   "outputs": [],
   "source": [
    "GBM_price = SimulateGBM(S0=S0_val,r=r_val, vol=vol_val, T=T_val,paths=paths_val, \n",
    "            Nsteps=Nsteps_val, reduce_variance=True)"
   ]
  },
  {
   "cell_type": "code",
   "execution_count": 27,
   "metadata": {},
   "outputs": [],
   "source": [
    "# Strike Price\n",
    "K_val = 40"
   ]
  },
  {
   "cell_type": "code",
   "execution_count": 29,
   "metadata": {},
   "outputs": [
    {
     "data": {
      "text/plain": [
       "3.9459731073722777"
      ]
     },
     "execution_count": 29,
     "metadata": {},
     "output_type": "execute_result"
    }
   ],
   "source": [
    "CF_GBM,Value_GBM = Val_Ame_Put_Opt(S=GBM_price, K=K_val,Nsteps=Nsteps_val, \n",
    "                                           paths=paths_val, r=r_val, T=T_val)\n",
    "Value_Example"
   ]
  },
  {
   "cell_type": "code",
   "execution_count": null,
   "metadata": {},
   "outputs": [],
   "source": [
    "def power_polynomials(S, k):\n",
    "    \n",
    "    #  the first k terms of Laguerre Polynomials (k<=4)\n",
    "    x1 = np.ones(S.shape)\n",
    "    x2 = S\n",
    "    x3 = S**2\n",
    "    x4 = S**3 \n",
    "    \n",
    "    X  = [np.stack([x1, x2], axis = 1),\n",
    "          np.stack([x1, x2, x3], axis = 1),\n",
    "          np.stack([x1, x2, x3, x4], axis = 1)]\n",
    "    \n",
    "    return X[k-2]"
   ]
  },
  {
   "cell_type": "markdown",
   "metadata": {
    "tags": []
   },
   "source": [
    "## Binomial Tree -"
   ]
  },
  {
   "attachments": {
    "e1d7b499-c286-4853-b5f3-44e37ee3f4ab.png": {
     "image/png": "[encoded data removed]"
    }
   },
   "cell_type": "markdown",
   "metadata": {},
   "source": [
    "![binomial_tree.png](attachment:e1d7b499-c286-4853-b5f3-44e37ee3f4ab.png)"
   ]
  },
  {
   "cell_type": "markdown",
   "metadata": {},
   "source": [
    "$$qu+\\frac{1-q}{u}=e^{\\frac{rT}{n}} \\Rightarrow q= \\frac{u.e^{\\frac{rT}{n}}-1}{u^2-1}=\\frac{e^{\\frac{rT}{n}}-d}{u-d}$$"
   ]
  },
  {
   "cell_type": "markdown",
   "metadata": {
    "tags": []
   },
   "source": [
    "### Case: Put Option"
   ]
  },
  {
   "cell_type": "code",
   "execution_count": 30,
   "metadata": {},
   "outputs": [],
   "source": [
    "def binomial_put(S, K, T, r, vol, N):\n",
    "    \n",
    "    # Number of time steps\n",
    "    dt = T/N\n",
    "    \n",
    "    # u value \n",
    "    u =  np.exp(vol * np.sqrt(dt))\n",
    "    \n",
    "    # 1/u value\n",
    "    d = 1/u\n",
    "    \n",
    "    # \n",
    "    q = (np.exp(r * dt) - d)/(u - d)\n",
    "    \n",
    "    # probability of q\n",
    "    \n",
    "    # \n",
    "    C = {}\n",
    "    \n",
    "    #payoff function for put options    \n",
    "    for m in range(0, N+1):\n",
    "        C[(N, m)] = max(K - S * (u ** (2*m - N)), 0) \n",
    "    \n",
    "    \n",
    "    for k in range(N-1, -1, -1):\n",
    "\n",
    "        for m in range(0,k+1):\n",
    "\n",
    "            future_value = np.exp(-r * dt) * (q * C[(k+1, m+1)] + (1-q) * C[(k+1, m)])\n",
    "            exercise_value =  max(K - S * (u ** (2*m-k)),0)\n",
    "            C[(k, m)] = max(future_value, exercise_value)\n",
    "    \n",
    "    return C[(0,0)], C"
   ]
  },
  {
   "cell_type": "code",
   "execution_count": 31,
   "metadata": {},
   "outputs": [],
   "source": [
    "\n",
    "S_val = 36\n",
    "K_val = 40\n",
    "T_val = 1\n",
    "N_val = 10\n",
    "vol_val = 0.2\n",
    "r_val = 0.06"
   ]
  },
  {
   "cell_type": "code",
   "execution_count": 32,
   "metadata": {},
   "outputs": [
    {
     "name": "stdout",
     "output_type": "stream",
     "text": [
      "The Price of American Put Option is = 4.470\n"
     ]
    }
   ],
   "source": [
    "C0, C = binomial_put(S=S_val, K=K_val, T=T_val, r=r_val, vol=vol_val, N=N_val)\n",
    "print(f\"The Price of American Put Option is = {C0:.3f}\")"
   ]
  },
  {
   "cell_type": "markdown",
   "metadata": {},
   "source": [
    "### Show Lattice in Data Farme Format"
   ]
  },
  {
   "cell_type": "code",
   "execution_count": 33,
   "metadata": {},
   "outputs": [],
   "source": [
    "def C_to_DF_binomial(C, N):\n",
    "\n",
    "    DF_binomial = pd.DataFrame(index=range(N), columns=range(N))\n",
    "    \n",
    "    for key, val in C.items():\n",
    "        DF_binomial.loc[key[1], key[0]] = val\n",
    "    \n",
    "    return DF_binomial "
   ]
  },
  {
   "cell_type": "code",
   "execution_count": 34,
   "metadata": {},
   "outputs": [
    {
     "data": {
      "text/html": [
       "<div>\n",
       "<style scoped>\n",
       "    .dataframe tbody tr th:only-of-type {\n",
       "        vertical-align: middle;\n",
       "    }\n",
       "\n",
       "    .dataframe tbody tr th {\n",
       "        vertical-align: top;\n",
       "    }\n",
       "\n",
       "    .dataframe thead th {\n",
       "        text-align: right;\n",
       "    }\n",
       "</style>\n",
       "<table border=\"1\" class=\"dataframe\">\n",
       "  <thead>\n",
       "    <tr style=\"text-align: right;\">\n",
       "      <th></th>\n",
       "      <th>0</th>\n",
       "      <th>1</th>\n",
       "      <th>2</th>\n",
       "      <th>3</th>\n",
       "      <th>4</th>\n",
       "      <th>5</th>\n",
       "      <th>6</th>\n",
       "      <th>7</th>\n",
       "      <th>8</th>\n",
       "      <th>9</th>\n",
       "      <th>10</th>\n",
       "    </tr>\n",
       "  </thead>\n",
       "  <tbody>\n",
       "    <tr>\n",
       "      <th>0</th>\n",
       "      <td>4.470402</td>\n",
       "      <td>6.206334</td>\n",
       "      <td>8.277448</td>\n",
       "      <td>10.22163</td>\n",
       "      <td>12.046659</td>\n",
       "      <td>13.759837</td>\n",
       "      <td>15.368019</td>\n",
       "      <td>16.877641</td>\n",
       "      <td>18.294742</td>\n",
       "      <td>19.624994</td>\n",
       "      <td>20.873718</td>\n",
       "    </tr>\n",
       "    <tr>\n",
       "      <th>1</th>\n",
       "      <td>NaN</td>\n",
       "      <td>2.992296</td>\n",
       "      <td>4.378919</td>\n",
       "      <td>6.206334</td>\n",
       "      <td>8.277448</td>\n",
       "      <td>10.22163</td>\n",
       "      <td>12.046659</td>\n",
       "      <td>13.759837</td>\n",
       "      <td>15.368019</td>\n",
       "      <td>16.877641</td>\n",
       "      <td>18.294742</td>\n",
       "    </tr>\n",
       "    <tr>\n",
       "      <th>2</th>\n",
       "      <td>NaN</td>\n",
       "      <td>NaN</td>\n",
       "      <td>1.805071</td>\n",
       "      <td>2.819216</td>\n",
       "      <td>4.262419</td>\n",
       "      <td>6.206334</td>\n",
       "      <td>8.277448</td>\n",
       "      <td>10.22163</td>\n",
       "      <td>12.046659</td>\n",
       "      <td>13.759837</td>\n",
       "      <td>15.368019</td>\n",
       "    </tr>\n",
       "    <tr>\n",
       "      <th>3</th>\n",
       "      <td>NaN</td>\n",
       "      <td>NaN</td>\n",
       "      <td>NaN</td>\n",
       "      <td>0.932422</td>\n",
       "      <td>1.580206</td>\n",
       "      <td>2.598805</td>\n",
       "      <td>4.114999</td>\n",
       "      <td>6.206334</td>\n",
       "      <td>8.277448</td>\n",
       "      <td>10.22163</td>\n",
       "      <td>12.046659</td>\n",
       "    </tr>\n",
       "    <tr>\n",
       "      <th>4</th>\n",
       "      <td>NaN</td>\n",
       "      <td>NaN</td>\n",
       "      <td>NaN</td>\n",
       "      <td>NaN</td>\n",
       "      <td>0.372521</td>\n",
       "      <td>0.70109</td>\n",
       "      <td>1.293024</td>\n",
       "      <td>2.319894</td>\n",
       "      <td>4.0</td>\n",
       "      <td>6.206334</td>\n",
       "      <td>8.277448</td>\n",
       "    </tr>\n",
       "    <tr>\n",
       "      <th>5</th>\n",
       "      <td>NaN</td>\n",
       "      <td>NaN</td>\n",
       "      <td>NaN</td>\n",
       "      <td>NaN</td>\n",
       "      <td>NaN</td>\n",
       "      <td>0.087392</td>\n",
       "      <td>0.187754</td>\n",
       "      <td>0.403373</td>\n",
       "      <td>0.866612</td>\n",
       "      <td>1.86184</td>\n",
       "      <td>4.000000</td>\n",
       "    </tr>\n",
       "    <tr>\n",
       "      <th>6</th>\n",
       "      <td>NaN</td>\n",
       "      <td>NaN</td>\n",
       "      <td>NaN</td>\n",
       "      <td>NaN</td>\n",
       "      <td>NaN</td>\n",
       "      <td>NaN</td>\n",
       "      <td>0.0</td>\n",
       "      <td>0.0</td>\n",
       "      <td>0.0</td>\n",
       "      <td>0.0</td>\n",
       "      <td>0.000000</td>\n",
       "    </tr>\n",
       "    <tr>\n",
       "      <th>7</th>\n",
       "      <td>NaN</td>\n",
       "      <td>NaN</td>\n",
       "      <td>NaN</td>\n",
       "      <td>NaN</td>\n",
       "      <td>NaN</td>\n",
       "      <td>NaN</td>\n",
       "      <td>NaN</td>\n",
       "      <td>0.0</td>\n",
       "      <td>0.0</td>\n",
       "      <td>0.0</td>\n",
       "      <td>0.000000</td>\n",
       "    </tr>\n",
       "    <tr>\n",
       "      <th>8</th>\n",
       "      <td>NaN</td>\n",
       "      <td>NaN</td>\n",
       "      <td>NaN</td>\n",
       "      <td>NaN</td>\n",
       "      <td>NaN</td>\n",
       "      <td>NaN</td>\n",
       "      <td>NaN</td>\n",
       "      <td>NaN</td>\n",
       "      <td>0.0</td>\n",
       "      <td>0.0</td>\n",
       "      <td>0.000000</td>\n",
       "    </tr>\n",
       "    <tr>\n",
       "      <th>9</th>\n",
       "      <td>NaN</td>\n",
       "      <td>NaN</td>\n",
       "      <td>NaN</td>\n",
       "      <td>NaN</td>\n",
       "      <td>NaN</td>\n",
       "      <td>NaN</td>\n",
       "      <td>NaN</td>\n",
       "      <td>NaN</td>\n",
       "      <td>NaN</td>\n",
       "      <td>0.0</td>\n",
       "      <td>0.000000</td>\n",
       "    </tr>\n",
       "    <tr>\n",
       "      <th>10</th>\n",
       "      <td>NaN</td>\n",
       "      <td>NaN</td>\n",
       "      <td>NaN</td>\n",
       "      <td>NaN</td>\n",
       "      <td>NaN</td>\n",
       "      <td>NaN</td>\n",
       "      <td>NaN</td>\n",
       "      <td>NaN</td>\n",
       "      <td>NaN</td>\n",
       "      <td>NaN</td>\n",
       "      <td>0.000000</td>\n",
       "    </tr>\n",
       "  </tbody>\n",
       "</table>\n",
       "</div>"
      ],
      "text/plain": [
       "          0         1         2         3          4          5          6   \\\n",
       "0   4.470402  6.206334  8.277448  10.22163  12.046659  13.759837  15.368019   \n",
       "1        NaN  2.992296  4.378919  6.206334   8.277448   10.22163  12.046659   \n",
       "2        NaN       NaN  1.805071  2.819216   4.262419   6.206334   8.277448   \n",
       "3        NaN       NaN       NaN  0.932422   1.580206   2.598805   4.114999   \n",
       "4        NaN       NaN       NaN       NaN   0.372521    0.70109   1.293024   \n",
       "5        NaN       NaN       NaN       NaN        NaN   0.087392   0.187754   \n",
       "6        NaN       NaN       NaN       NaN        NaN        NaN        0.0   \n",
       "7        NaN       NaN       NaN       NaN        NaN        NaN        NaN   \n",
       "8        NaN       NaN       NaN       NaN        NaN        NaN        NaN   \n",
       "9        NaN       NaN       NaN       NaN        NaN        NaN        NaN   \n",
       "10       NaN       NaN       NaN       NaN        NaN        NaN        NaN   \n",
       "\n",
       "           7          8          9          10  \n",
       "0   16.877641  18.294742  19.624994  20.873718  \n",
       "1   13.759837  15.368019  16.877641  18.294742  \n",
       "2    10.22163  12.046659  13.759837  15.368019  \n",
       "3    6.206334   8.277448   10.22163  12.046659  \n",
       "4    2.319894        4.0   6.206334   8.277448  \n",
       "5    0.403373   0.866612    1.86184   4.000000  \n",
       "6         0.0        0.0        0.0   0.000000  \n",
       "7         0.0        0.0        0.0   0.000000  \n",
       "8         NaN        0.0        0.0   0.000000  \n",
       "9         NaN        NaN        0.0   0.000000  \n",
       "10        NaN        NaN        NaN   0.000000  "
      ]
     },
     "execution_count": 34,
     "metadata": {},
     "output_type": "execute_result"
    }
   ],
   "source": [
    "C_to_DF_binomial(C, N=N_val)"
   ]
  },
  {
   "cell_type": "markdown",
   "metadata": {},
   "source": [
    "### Case: Call Option"
   ]
  },
  {
   "cell_type": "markdown",
   "metadata": {},
   "source": [
    "The Call option code is almost same the Put option, but this time we chnage the **Exercise Value**:\n",
    "to :"
   ]
  },
  {
   "cell_type": "markdown",
   "metadata": {},
   "source": [
    "$$max(Su^{2m-k}-K,0)$$"
   ]
  },
  {
   "cell_type": "code",
   "execution_count": 35,
   "metadata": {},
   "outputs": [],
   "source": [
    "def binomial_call(S, K, T, r, vol, N):\n",
    "    \n",
    "    # Number of time steps\n",
    "    dt = T/N\n",
    "    \n",
    "    # u value \n",
    "    u =  np.exp(vol * np.sqrt(dt))\n",
    "    \n",
    "    # 1/u value\n",
    "    d = 1/u\n",
    "    \n",
    "    # \n",
    "    q = (np.exp(r * dt) - d)/(u - d)\n",
    "    \n",
    "    # probability of q\n",
    "    \n",
    "    # \n",
    "    C = {}\n",
    "\n",
    "    # Payoff in End node\n",
    "    for m in range(0, N+1):\n",
    "        C[(N, m)] = max(S * (u ** (2*m - N))-K, 0) #New payoff function for put options\n",
    "    \n",
    "    for k in range(N-1, -1, -1):\n",
    "\n",
    "        for m in range(0,k+1):\n",
    "\n",
    "            future_value = np.exp(-r * dt) * (q * C[(k+1, m+1)] + (1-q) * C[(k+1, m)])\n",
    "            exercise_value =  max(S * (u ** (2*m-k))-K,0)\n",
    "            C[(k, m)] = max(future_value, exercise_value)\n",
    "    \n",
    "    return C[(0,0)], C"
   ]
  },
  {
   "cell_type": "code",
   "execution_count": 36,
   "metadata": {},
   "outputs": [],
   "source": [
    "# Spot Price\n",
    "S_val = 36\n",
    "# Strike Price\n",
    "K_val = 40\n",
    "# Time Period\n",
    "T_val = 1\n",
    "# risk-free rate\n",
    "r_val = 0.06\n",
    "# volatility rate\n",
    "vol_val = 0.2\n",
    "# Number of steps\n",
    "N_val = 100"
   ]
  },
  {
   "cell_type": "code",
   "execution_count": 37,
   "metadata": {},
   "outputs": [],
   "source": [
    "C0, C = binomial_call(S=S_val,K=K_val, T=T_val, r=r_val, vol=vol_val, N=N_val)"
   ]
  },
  {
   "cell_type": "code",
   "execution_count": 38,
   "metadata": {},
   "outputs": [
    {
     "name": "stdout",
     "output_type": "stream",
     "text": [
      "The Price of American Call Option is = 2.178\n"
     ]
    }
   ],
   "source": [
    "print(f\"The Price of American Call Option is = {C0:.3f}\")"
   ]
  },
  {
   "cell_type": "code",
   "execution_count": 39,
   "metadata": {},
   "outputs": [],
   "source": [
    "def european_price(S, K, T, r, vol ,is_call: bool):\n",
    "    \n",
    "    sigma_sqrt: float = vol * np.sqrt(T)\n",
    "    \n",
    "    d1 = (np.log(S / K) +\n",
    "                     (r + vol ** 2 / 2.) * T) / sigma_sqrt\n",
    "    d2 = d1 - sigma_sqrt\n",
    "    \n",
    "    if is_call:\n",
    "            ret = S * norm.cdf(d1) - \\\n",
    "                K * np.exp(-r * T) * norm.cdf(d2)\n",
    "    else:\n",
    "            ret = K * np.exp(-r * T) * norm.cdf(-d2) - \\\n",
    "                S * norm.cdf(-d1)\n",
    "    return ret"
   ]
  },
  {
   "cell_type": "code",
   "execution_count": 40,
   "metadata": {},
   "outputs": [
    {
     "name": "stdout",
     "output_type": "stream",
     "text": [
      "The Price of European Call Option is = 2.178\n"
     ]
    }
   ],
   "source": [
    "european_price(S=S_val, K=K_val, T=T_val, r=r_val, vol=vol_val,is_call=True)\n",
    "print(f\"The Price of European Call Option is = {C0:.3f}\")"
   ]
  }
 ],
 "metadata": {
  "interpreter": {
   "hash": "db20e6f1942dfa4018b4af75e23db50481c856c6659b4817212817b5bdc762e4"
  },
  "kernelspec": {
   "display_name": "Python 3 (ipykernel)",
   "language": "python",
   "name": "python3"
  },
  "language_info": {
   "codemirror_mode": {
    "name": "ipython",
    "version": 3
   },
   "file_extension": ".py",
   "mimetype": "text/x-python",
   "name": "python",
   "nbconvert_exporter": "python",
   "pygments_lexer": "ipython3",
   "version": "3.9.5"
  }
 },
 "nbformat": 4,
 "nbformat_minor": 4
}
